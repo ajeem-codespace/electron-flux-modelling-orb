{
  "nbformat": 4,
  "nbformat_minor": 0,
  "metadata": {
    "colab": {
      "provenance": [],
      "machine_shape": "hm",
      "gpuType": "A100"
    },
    "kernelspec": {
      "name": "python3",
      "display_name": "Python 3"
    },
    "language_info": {
      "name": "python"
    },
    "accelerator": "GPU"
  },
  "cells": [
    {
      "cell_type": "markdown",
      "source": [
        "data downloading and loading"
      ],
      "metadata": {
        "id": "11k2ypvS6a7o"
      }
    },
    {
      "cell_type": "code",
      "execution_count": 1,
      "metadata": {
        "colab": {
          "base_uri": "https://localhost:8080/"
        },
        "id": "Q13yaXTKzi1n",
        "outputId": "ef16c4e5-0e37-4aea-aff2-90676b0dc1fa"
      },
      "outputs": [
        {
          "output_type": "stream",
          "name": "stdout",
          "text": [
            "\r0% [Working]\r            \rGet:1 http://security.ubuntu.com/ubuntu jammy-security InRelease [129 kB]\n",
            "\r0% [Connecting to archive.ubuntu.com (91.189.91.83)] [1 InRelease 5,484 B/129 k\r                                                                               \rGet:2 https://cloud.r-project.org/bin/linux/ubuntu jammy-cran40/ InRelease [3,632 B]\n",
            "\r0% [Connecting to archive.ubuntu.com (91.189.91.83)] [1 InRelease 54.7 kB/129 k\r0% [Connecting to archive.ubuntu.com (91.189.91.83)] [1 InRelease 93.8 kB/129 k\r                                                                               \rGet:3 https://cli.github.com/packages stable InRelease [3,917 B]\n",
            "Get:4 https://developer.download.nvidia.com/compute/cuda/repos/ubuntu2204/x86_64  InRelease [1,581 B]\n",
            "Hit:5 http://archive.ubuntu.com/ubuntu jammy InRelease\n",
            "Hit:6 https://ppa.launchpadcontent.net/deadsnakes/ppa/ubuntu jammy InRelease\n",
            "Get:7 https://ppa.launchpadcontent.net/graphics-drivers/ppa/ubuntu jammy InRelease [24.3 kB]\n",
            "Hit:8 https://ppa.launchpadcontent.net/ubuntugis/ppa/ubuntu jammy InRelease\n",
            "Get:9 http://archive.ubuntu.com/ubuntu jammy-updates InRelease [128 kB]\n",
            "Get:10 https://cli.github.com/packages stable/main amd64 Packages [346 B]\n",
            "Get:11 http://security.ubuntu.com/ubuntu jammy-security/universe amd64 Packages [1,274 kB]\n",
            "Get:12 https://developer.download.nvidia.com/compute/cuda/repos/ubuntu2204/x86_64  Packages [2,006 kB]\n",
            "Get:13 http://security.ubuntu.com/ubuntu jammy-security/main amd64 Packages [3,310 kB]\n",
            "Get:14 https://r2u.stat.illinois.edu/ubuntu jammy InRelease [6,555 B]\n",
            "Get:15 http://archive.ubuntu.com/ubuntu jammy-backports InRelease [127 kB]\n",
            "Get:16 http://archive.ubuntu.com/ubuntu jammy-updates/main amd64 Packages [3,623 kB]\n",
            "Get:17 https://r2u.stat.illinois.edu/ubuntu jammy/main all Packages [9,264 kB]\n",
            "Get:18 http://archive.ubuntu.com/ubuntu jammy-updates/universe amd64 Packages [1,581 kB]\n",
            "Get:19 http://archive.ubuntu.com/ubuntu jammy-updates/restricted amd64 Packages [5,627 kB]\n",
            "Get:20 http://archive.ubuntu.com/ubuntu jammy-updates/multiverse amd64 Packages [88.8 kB]\n",
            "Get:21 https://r2u.stat.illinois.edu/ubuntu jammy/main amd64 Packages [2,794 kB]\n",
            "Fetched 30.0 MB in 3s (11.0 MB/s)\n",
            "Reading package lists... Done\n",
            "W: Skipping acquire of configured file 'main/source/Sources' as repository 'https://r2u.stat.illinois.edu/ubuntu jammy InRelease' does not seem to provide it (sources.list entry misspelt?)\n",
            "Reading package lists... Done\n",
            "Building dependency tree... Done\n",
            "Reading state information... Done\n",
            "p7zip-full is already the newest version (16.02+dfsg-8).\n",
            "0 upgraded, 0 newly installed, 0 to remove and 50 not upgraded.\n"
          ]
        }
      ],
      "source": [
        "!apt-get update -y\n",
        "!apt-get install -y p7zip-full\n"
      ]
    },
    {
      "cell_type": "code",
      "source": [
        "download_links = {\n",
        "    \"ch3.7z\": \"https://zenodo.org/records/6299967/files/ch3_data.7z?download=1\",\n",
        "    \"ch11.7z\": \"https://zenodo.org/records/6299967/files/ch11_data.7z?download=1\",\n",
        "    \"ch14.7z\": \"https://zenodo.org/records/6299967/files/ch14_data.7z?download=1\",\n",
        "    \"ch16.7z\": \"https://zenodo.org/records/6299967/files/ch16_data.7z?download=1\"\n",
        "}\n",
        "\n",
        "for filename, url in download_links.items():\n",
        "  !wget -O \"{filename}\" \"{url}\"\n",
        "  !7z x \"{filename}\"\n",
        "\n",
        "  print(f\"Finished with {filename}\\n\")\n",
        "\n",
        "print(\"All required channel files have been downloaded and unzipped.\")"
      ],
      "metadata": {
        "colab": {
          "base_uri": "https://localhost:8080/"
        },
        "id": "GOReeOYf6TAm",
        "outputId": "ef10c573-0768-4080-ce26-8878a5509544"
      },
      "execution_count": 2,
      "outputs": [
        {
          "output_type": "stream",
          "name": "stdout",
          "text": [
            "--2025-09-14 16:33:48--  https://zenodo.org/records/6299967/files/ch3_data.7z?download=1\n",
            "Resolving zenodo.org (zenodo.org)... 188.185.45.92, 188.185.48.194, 188.185.43.25, ...\n",
            "Connecting to zenodo.org (zenodo.org)|188.185.45.92|:443... connected.\n",
            "HTTP request sent, awaiting response... 200 OK\n",
            "Length: 47772151 (46M) [application/octet-stream]\n",
            "Saving to: ‘ch3.7z’\n",
            "\n",
            "ch3.7z              100%[===================>]  45.56M  82.8MB/s    in 0.6s    \n",
            "\n",
            "2025-09-14 16:33:49 (82.8 MB/s) - ‘ch3.7z’ saved [47772151/47772151]\n",
            "\n",
            "\n",
            "7-Zip [64] 16.02 : Copyright (c) 1999-2016 Igor Pavlov : 2016-05-21\n",
            "p7zip Version 16.02 (locale=en_US.UTF-8,Utf16=on,HugeFiles=on,64 bits,12 CPUs Intel(R) Xeon(R) CPU @ 2.20GHz (50657),ASM,AES-NI)\n",
            "\n",
            "Scanning the drive for archives:\n",
            "  0M Scan\b\b\b\b\b\b\b\b\b         \b\b\b\b\b\b\b\b\b1 file, 47772151 bytes (46 MiB)\n",
            "\n",
            "Extracting archive: ch3.7z\n",
            "--\n",
            "Path = ch3.7z\n",
            "Type = 7z\n",
            "Physical Size = 47772151\n",
            "Headers Size = 130\n",
            "Method = LZMA2:24\n",
            "Solid = -\n",
            "Blocks = 1\n",
            "\n",
            "  0%\b\b\b\b    \b\b\b\b  1% - ch3_data.pkl\b\b\b\b\b\b\b\b\b\b\b\b\b\b\b\b\b\b\b                   \b\b\b\b\b\b\b\b\b\b\b\b\b\b\b\b\b\b\b  2% - ch3_data.pkl\b\b\b\b\b\b\b\b\b\b\b\b\b\b\b\b\b\b\b                   \b\b\b\b\b\b\b\b\b\b\b\b\b\b\b\b\b\b\b  4% - ch3_data.pkl\b\b\b\b\b\b\b\b\b\b\b\b\b\b\b\b\b\b\b                   \b\b\b\b\b\b\b\b\b\b\b\b\b\b\b\b\b\b\b  5% - ch3_data.pkl\b\b\b\b\b\b\b\b\b\b\b\b\b\b\b\b\b\b\b                   \b\b\b\b\b\b\b\b\b\b\b\b\b\b\b\b\b\b\b  7% - ch3_data.pkl\b\b\b\b\b\b\b\b\b\b\b\b\b\b\b\b\b\b\b                   \b\b\b\b\b\b\b\b\b\b\b\b\b\b\b\b\b\b\b  8% - ch3_data.pkl\b\b\b\b\b\b\b\b\b\b\b\b\b\b\b\b\b\b\b                   \b\b\b\b\b\b\b\b\b\b\b\b\b\b\b\b\b\b\b  9% - ch3_data.pkl\b\b\b\b\b\b\b\b\b\b\b\b\b\b\b\b\b\b\b                   \b\b\b\b\b\b\b\b\b\b\b\b\b\b\b\b\b\b\b 11% - ch3_data.pkl\b\b\b\b\b\b\b\b\b\b\b\b\b\b\b\b\b\b\b                   \b\b\b\b\b\b\b\b\b\b\b\b\b\b\b\b\b\b\b 12% - ch3_data.pkl\b\b\b\b\b\b\b\b\b\b\b\b\b\b\b\b\b\b\b                   \b\b\b\b\b\b\b\b\b\b\b\b\b\b\b\b\b\b\b 14% - ch3_data.pkl\b\b\b\b\b\b\b\b\b\b\b\b\b\b\b\b\b\b\b                   \b\b\b\b\b\b\b\b\b\b\b\b\b\b\b\b\b\b\b 15% - ch3_data.pkl\b\b\b\b\b\b\b\b\b\b\b\b\b\b\b\b\b\b\b                   \b\b\b\b\b\b\b\b\b\b\b\b\b\b\b\b\b\b\b 17% - ch3_data.pkl\b\b\b\b\b\b\b\b\b\b\b\b\b\b\b\b\b\b\b                   \b\b\b\b\b\b\b\b\b\b\b\b\b\b\b\b\b\b\b 18% - ch3_data.pkl\b\b\b\b\b\b\b\b\b\b\b\b\b\b\b\b\b\b\b                   \b\b\b\b\b\b\b\b\b\b\b\b\b\b\b\b\b\b\b 19% - ch3_data.pkl\b\b\b\b\b\b\b\b\b\b\b\b\b\b\b\b\b\b\b                   \b\b\b\b\b\b\b\b\b\b\b\b\b\b\b\b\b\b\b 21% - ch3_data.pkl\b\b\b\b\b\b\b\b\b\b\b\b\b\b\b\b\b\b\b                   \b\b\b\b\b\b\b\b\b\b\b\b\b\b\b\b\b\b\b 22% - ch3_data.pkl\b\b\b\b\b\b\b\b\b\b\b\b\b\b\b\b\b\b\b                   \b\b\b\b\b\b\b\b\b\b\b\b\b\b\b\b\b\b\b 24% - ch3_data.pkl\b\b\b\b\b\b\b\b\b\b\b\b\b\b\b\b\b\b\b                   \b\b\b\b\b\b\b\b\b\b\b\b\b\b\b\b\b\b\b 25% - ch3_data.pkl\b\b\b\b\b\b\b\b\b\b\b\b\b\b\b\b\b\b\b                   \b\b\b\b\b\b\b\b\b\b\b\b\b\b\b\b\b\b\b 26% - ch3_data.pkl\b\b\b\b\b\b\b\b\b\b\b\b\b\b\b\b\b\b\b                   \b\b\b\b\b\b\b\b\b\b\b\b\b\b\b\b\b\b\b 28% - ch3_data.pkl\b\b\b\b\b\b\b\b\b\b\b\b\b\b\b\b\b\b\b                   \b\b\b\b\b\b\b\b\b\b\b\b\b\b\b\b\b\b\b 29% - ch3_data.pkl\b\b\b\b\b\b\b\b\b\b\b\b\b\b\b\b\b\b\b                   \b\b\b\b\b\b\b\b\b\b\b\b\b\b\b\b\b\b\b 31% - ch3_data.pkl\b\b\b\b\b\b\b\b\b\b\b\b\b\b\b\b\b\b\b                   \b\b\b\b\b\b\b\b\b\b\b\b\b\b\b\b\b\b\b 32% - ch3_data.pkl\b\b\b\b\b\b\b\b\b\b\b\b\b\b\b\b\b\b\b                   \b\b\b\b\b\b\b\b\b\b\b\b\b\b\b\b\b\b\b 33% - ch3_data.pkl\b\b\b\b\b\b\b\b\b\b\b\b\b\b\b\b\b\b\b                   \b\b\b\b\b\b\b\b\b\b\b\b\b\b\b\b\b\b\b 35% - ch3_data.pkl\b\b\b\b\b\b\b\b\b\b\b\b\b\b\b\b\b\b\b                   \b\b\b\b\b\b\b\b\b\b\b\b\b\b\b\b\b\b\b 36% - ch3_data.pkl\b\b\b\b\b\b\b\b\b\b\b\b\b\b\b\b\b\b\b                   \b\b\b\b\b\b\b\b\b\b\b\b\b\b\b\b\b\b\b 37% - ch3_data.pkl\b\b\b\b\b\b\b\b\b\b\b\b\b\b\b\b\b\b\b                   \b\b\b\b\b\b\b\b\b\b\b\b\b\b\b\b\b\b\b 39% - ch3_data.pkl\b\b\b\b\b\b\b\b\b\b\b\b\b\b\b\b\b\b\b                   \b\b\b\b\b\b\b\b\b\b\b\b\b\b\b\b\b\b\b 40% - ch3_data.pkl\b\b\b\b\b\b\b\b\b\b\b\b\b\b\b\b\b\b\b                   \b\b\b\b\b\b\b\b\b\b\b\b\b\b\b\b\b\b\b 41% - ch3_data.pkl\b\b\b\b\b\b\b\b\b\b\b\b\b\b\b\b\b\b\b                   \b\b\b\b\b\b\b\b\b\b\b\b\b\b\b\b\b\b\b 42% - ch3_data.pkl\b\b\b\b\b\b\b\b\b\b\b\b\b\b\b\b\b\b\b                   \b\b\b\b\b\b\b\b\b\b\b\b\b\b\b\b\b\b\b 44% - ch3_data.pkl\b\b\b\b\b\b\b\b\b\b\b\b\b\b\b\b\b\b\b                   \b\b\b\b\b\b\b\b\b\b\b\b\b\b\b\b\b\b\b 45% - ch3_data.pkl\b\b\b\b\b\b\b\b\b\b\b\b\b\b\b\b\b\b\b                   \b\b\b\b\b\b\b\b\b\b\b\b\b\b\b\b\b\b\b 46% - ch3_data.pkl\b\b\b\b\b\b\b\b\b\b\b\b\b\b\b\b\b\b\b                   \b\b\b\b\b\b\b\b\b\b\b\b\b\b\b\b\b\b\b 48% - ch3_data.pkl\b\b\b\b\b\b\b\b\b\b\b\b\b\b\b\b\b\b\b                   \b\b\b\b\b\b\b\b\b\b\b\b\b\b\b\b\b\b\b 49% - ch3_data.pkl\b\b\b\b\b\b\b\b\b\b\b\b\b\b\b\b\b\b\b                   \b\b\b\b\b\b\b\b\b\b\b\b\b\b\b\b\b\b\b 50% - ch3_data.pkl\b\b\b\b\b\b\b\b\b\b\b\b\b\b\b\b\b\b\b                   \b\b\b\b\b\b\b\b\b\b\b\b\b\b\b\b\b\b\b 52% - ch3_data.pkl\b\b\b\b\b\b\b\b\b\b\b\b\b\b\b\b\b\b\b                   \b\b\b\b\b\b\b\b\b\b\b\b\b\b\b\b\b\b\b 53% - ch3_data.pkl\b\b\b\b\b\b\b\b\b\b\b\b\b\b\b\b\b\b\b                   \b\b\b\b\b\b\b\b\b\b\b\b\b\b\b\b\b\b\b 54% - ch3_data.pkl\b\b\b\b\b\b\b\b\b\b\b\b\b\b\b\b\b\b\b                   \b\b\b\b\b\b\b\b\b\b\b\b\b\b\b\b\b\b\b 55% - ch3_data.pkl\b\b\b\b\b\b\b\b\b\b\b\b\b\b\b\b\b\b\b                   \b\b\b\b\b\b\b\b\b\b\b\b\b\b\b\b\b\b\b 57% - ch3_data.pkl\b\b\b\b\b\b\b\b\b\b\b\b\b\b\b\b\b\b\b                   \b\b\b\b\b\b\b\b\b\b\b\b\b\b\b\b\b\b\b 58% - ch3_data.pkl\b\b\b\b\b\b\b\b\b\b\b\b\b\b\b\b\b\b\b                   \b\b\b\b\b\b\b\b\b\b\b\b\b\b\b\b\b\b\b 59% - ch3_data.pkl\b\b\b\b\b\b\b\b\b\b\b\b\b\b\b\b\b\b\b                   \b\b\b\b\b\b\b\b\b\b\b\b\b\b\b\b\b\b\b 61% - ch3_data.pkl\b\b\b\b\b\b\b\b\b\b\b\b\b\b\b\b\b\b\b                   \b\b\b\b\b\b\b\b\b\b\b\b\b\b\b\b\b\b\b 62% - ch3_data.pkl\b\b\b\b\b\b\b\b\b\b\b\b\b\b\b\b\b\b\b                   \b\b\b\b\b\b\b\b\b\b\b\b\b\b\b\b\b\b\b 63% - ch3_data.pkl\b\b\b\b\b\b\b\b\b\b\b\b\b\b\b\b\b\b\b                   \b\b\b\b\b\b\b\b\b\b\b\b\b\b\b\b\b\b\b 64% - ch3_data.pkl\b\b\b\b\b\b\b\b\b\b\b\b\b\b\b\b\b\b\b                   \b\b\b\b\b\b\b\b\b\b\b\b\b\b\b\b\b\b\b 65% - ch3_data.pkl\b\b\b\b\b\b\b\b\b\b\b\b\b\b\b\b\b\b\b                   \b\b\b\b\b\b\b\b\b\b\b\b\b\b\b\b\b\b\b 67% - ch3_data.pkl\b\b\b\b\b\b\b\b\b\b\b\b\b\b\b\b\b\b\b                   \b\b\b\b\b\b\b\b\b\b\b\b\b\b\b\b\b\b\b 68% - ch3_data.pkl\b\b\b\b\b\b\b\b\b\b\b\b\b\b\b\b\b\b\b                   \b\b\b\b\b\b\b\b\b\b\b\b\b\b\b\b\b\b\b 69% - ch3_data.pkl\b\b\b\b\b\b\b\b\b\b\b\b\b\b\b\b\b\b\b                   \b\b\b\b\b\b\b\b\b\b\b\b\b\b\b\b\b\b\b 71% - ch3_data.pkl\b\b\b\b\b\b\b\b\b\b\b\b\b\b\b\b\b\b\b                   \b\b\b\b\b\b\b\b\b\b\b\b\b\b\b\b\b\b\b 72% - ch3_data.pkl\b\b\b\b\b\b\b\b\b\b\b\b\b\b\b\b\b\b\b                   \b\b\b\b\b\b\b\b\b\b\b\b\b\b\b\b\b\b\b 73% - ch3_data.pkl\b\b\b\b\b\b\b\b\b\b\b\b\b\b\b\b\b\b\b                   \b\b\b\b\b\b\b\b\b\b\b\b\b\b\b\b\b\b\b 74% - ch3_data.pkl\b\b\b\b\b\b\b\b\b\b\b\b\b\b\b\b\b\b\b                   \b\b\b\b\b\b\b\b\b\b\b\b\b\b\b\b\b\b\b 76% - ch3_data.pkl\b\b\b\b\b\b\b\b\b\b\b\b\b\b\b\b\b\b\b                   \b\b\b\b\b\b\b\b\b\b\b\b\b\b\b\b\b\b\b 77% - ch3_data.pkl\b\b\b\b\b\b\b\b\b\b\b\b\b\b\b\b\b\b\b                   \b\b\b\b\b\b\b\b\b\b\b\b\b\b\b\b\b\b\b 78% - ch3_data.pkl\b\b\b\b\b\b\b\b\b\b\b\b\b\b\b\b\b\b\b                   \b\b\b\b\b\b\b\b\b\b\b\b\b\b\b\b\b\b\b 79% - ch3_data.pkl\b\b\b\b\b\b\b\b\b\b\b\b\b\b\b\b\b\b\b                   \b\b\b\b\b\b\b\b\b\b\b\b\b\b\b\b\b\b\b 80% - ch3_data.pkl\b\b\b\b\b\b\b\b\b\b\b\b\b\b\b\b\b\b\b                   \b\b\b\b\b\b\b\b\b\b\b\b\b\b\b\b\b\b\b 82% - ch3_data.pkl\b\b\b\b\b\b\b\b\b\b\b\b\b\b\b\b\b\b\b                   \b\b\b\b\b\b\b\b\b\b\b\b\b\b\b\b\b\b\b 83% - ch3_data.pkl\b\b\b\b\b\b\b\b\b\b\b\b\b\b\b\b\b\b\b                   \b\b\b\b\b\b\b\b\b\b\b\b\b\b\b\b\b\b\b 84% - ch3_data.pkl\b\b\b\b\b\b\b\b\b\b\b\b\b\b\b\b\b\b\b                   \b\b\b\b\b\b\b\b\b\b\b\b\b\b\b\b\b\b\b 85% - ch3_data.pkl\b\b\b\b\b\b\b\b\b\b\b\b\b\b\b\b\b\b\b                   \b\b\b\b\b\b\b\b\b\b\b\b\b\b\b\b\b\b\b 87% - ch3_data.pkl\b\b\b\b\b\b\b\b\b\b\b\b\b\b\b\b\b\b\b                   \b\b\b\b\b\b\b\b\b\b\b\b\b\b\b\b\b\b\b 88% - ch3_data.pkl\b\b\b\b\b\b\b\b\b\b\b\b\b\b\b\b\b\b\b                   \b\b\b\b\b\b\b\b\b\b\b\b\b\b\b\b\b\b\b 89% - ch3_data.pkl\b\b\b\b\b\b\b\b\b\b\b\b\b\b\b\b\b\b\b                   \b\b\b\b\b\b\b\b\b\b\b\b\b\b\b\b\b\b\b 91% - ch3_data.pkl\b\b\b\b\b\b\b\b\b\b\b\b\b\b\b\b\b\b\b                   \b\b\b\b\b\b\b\b\b\b\b\b\b\b\b\b\b\b\b 92% - ch3_data.pkl\b\b\b\b\b\b\b\b\b\b\b\b\b\b\b\b\b\b\b                   \b\b\b\b\b\b\b\b\b\b\b\b\b\b\b\b\b\b\b 93% - ch3_data.pkl\b\b\b\b\b\b\b\b\b\b\b\b\b\b\b\b\b\b\b                   \b\b\b\b\b\b\b\b\b\b\b\b\b\b\b\b\b\b\b 94% - ch3_data.pkl\b\b\b\b\b\b\b\b\b\b\b\b\b\b\b\b\b\b\b                   \b\b\b\b\b\b\b\b\b\b\b\b\b\b\b\b\b\b\b 96% - ch3_data.pkl\b\b\b\b\b\b\b\b\b\b\b\b\b\b\b\b\b\b\b                   \b\b\b\b\b\b\b\b\b\b\b\b\b\b\b\b\b\b\b 97% - ch3_data.pkl\b\b\b\b\b\b\b\b\b\b\b\b\b\b\b\b\b\b\b                   \b\b\b\b\b\b\b\b\b\b\b\b\b\b\b\b\b\b\b 99% - ch3_data.pkl\b\b\b\b\b\b\b\b\b\b\b\b\b\b\b\b\b\b\b                   \b\b\b\b\b\b\b\b\b\b\b\b\b\b\b\b\b\b\bEverything is Ok\n",
            "\n",
            "Size:       5848069979\n",
            "Compressed: 47772151\n",
            "Finished with ch3.7z\n",
            "\n",
            "--2025-09-14 16:34:05--  https://zenodo.org/records/6299967/files/ch11_data.7z?download=1\n",
            "Resolving zenodo.org (zenodo.org)... 188.185.45.92, 188.185.48.194, 188.185.43.25, ...\n",
            "Connecting to zenodo.org (zenodo.org)|188.185.45.92|:443... connected.\n",
            "HTTP request sent, awaiting response... 200 OK\n",
            "Length: 47725670 (46M) [application/octet-stream]\n",
            "Saving to: ‘ch11.7z’\n",
            "\n",
            "ch11.7z             100%[===================>]  45.51M  84.7MB/s    in 0.5s    \n",
            "\n",
            "2025-09-14 16:34:05 (84.7 MB/s) - ‘ch11.7z’ saved [47725670/47725670]\n",
            "\n",
            "\n",
            "7-Zip [64] 16.02 : Copyright (c) 1999-2016 Igor Pavlov : 2016-05-21\n",
            "p7zip Version 16.02 (locale=en_US.UTF-8,Utf16=on,HugeFiles=on,64 bits,12 CPUs Intel(R) Xeon(R) CPU @ 2.20GHz (50657),ASM,AES-NI)\n",
            "\n",
            "Scanning the drive for archives:\n",
            "  0M Scan\b\b\b\b\b\b\b\b\b         \b\b\b\b\b\b\b\b\b1 file, 47725670 bytes (46 MiB)\n",
            "\n",
            "Extracting archive: ch11.7z\n",
            "--\n",
            "Path = ch11.7z\n",
            "Type = 7z\n",
            "Physical Size = 47725670\n",
            "Headers Size = 130\n",
            "Method = LZMA2:24\n",
            "Solid = -\n",
            "Blocks = 1\n",
            "\n",
            "  0%\b\b\b\b    \b\b\b\b  1% - ch11_data.pkl\b\b\b\b\b\b\b\b\b\b\b\b\b\b\b\b\b\b\b\b                    \b\b\b\b\b\b\b\b\b\b\b\b\b\b\b\b\b\b\b\b  3% - ch11_data.pkl\b\b\b\b\b\b\b\b\b\b\b\b\b\b\b\b\b\b\b\b                    \b\b\b\b\b\b\b\b\b\b\b\b\b\b\b\b\b\b\b\b  4% - ch11_data.pkl\b\b\b\b\b\b\b\b\b\b\b\b\b\b\b\b\b\b\b\b                    \b\b\b\b\b\b\b\b\b\b\b\b\b\b\b\b\b\b\b\b  6% - ch11_data.pkl\b\b\b\b\b\b\b\b\b\b\b\b\b\b\b\b\b\b\b\b                    \b\b\b\b\b\b\b\b\b\b\b\b\b\b\b\b\b\b\b\b  7% - ch11_data.pkl\b\b\b\b\b\b\b\b\b\b\b\b\b\b\b\b\b\b\b\b                    \b\b\b\b\b\b\b\b\b\b\b\b\b\b\b\b\b\b\b\b  8% - ch11_data.pkl\b\b\b\b\b\b\b\b\b\b\b\b\b\b\b\b\b\b\b\b                    \b\b\b\b\b\b\b\b\b\b\b\b\b\b\b\b\b\b\b\b 10% - ch11_data.pkl\b\b\b\b\b\b\b\b\b\b\b\b\b\b\b\b\b\b\b\b                    \b\b\b\b\b\b\b\b\b\b\b\b\b\b\b\b\b\b\b\b 11% - ch11_data.pkl\b\b\b\b\b\b\b\b\b\b\b\b\b\b\b\b\b\b\b\b                    \b\b\b\b\b\b\b\b\b\b\b\b\b\b\b\b\b\b\b\b 13% - ch11_data.pkl\b\b\b\b\b\b\b\b\b\b\b\b\b\b\b\b\b\b\b\b                    \b\b\b\b\b\b\b\b\b\b\b\b\b\b\b\b\b\b\b\b 15% - ch11_data.pkl\b\b\b\b\b\b\b\b\b\b\b\b\b\b\b\b\b\b\b\b                    \b\b\b\b\b\b\b\b\b\b\b\b\b\b\b\b\b\b\b\b 16% - ch11_data.pkl\b\b\b\b\b\b\b\b\b\b\b\b\b\b\b\b\b\b\b\b                    \b\b\b\b\b\b\b\b\b\b\b\b\b\b\b\b\b\b\b\b 18% - ch11_data.pkl\b\b\b\b\b\b\b\b\b\b\b\b\b\b\b\b\b\b\b\b                    \b\b\b\b\b\b\b\b\b\b\b\b\b\b\b\b\b\b\b\b 19% - ch11_data.pkl\b\b\b\b\b\b\b\b\b\b\b\b\b\b\b\b\b\b\b\b                    \b\b\b\b\b\b\b\b\b\b\b\b\b\b\b\b\b\b\b\b 21% - ch11_data.pkl\b\b\b\b\b\b\b\b\b\b\b\b\b\b\b\b\b\b\b\b                    \b\b\b\b\b\b\b\b\b\b\b\b\b\b\b\b\b\b\b\b 22% - ch11_data.pkl\b\b\b\b\b\b\b\b\b\b\b\b\b\b\b\b\b\b\b\b                    \b\b\b\b\b\b\b\b\b\b\b\b\b\b\b\b\b\b\b\b 24% - ch11_data.pkl\b\b\b\b\b\b\b\b\b\b\b\b\b\b\b\b\b\b\b\b                    \b\b\b\b\b\b\b\b\b\b\b\b\b\b\b\b\b\b\b\b 25% - ch11_data.pkl\b\b\b\b\b\b\b\b\b\b\b\b\b\b\b\b\b\b\b\b                    \b\b\b\b\b\b\b\b\b\b\b\b\b\b\b\b\b\b\b\b 27% - ch11_data.pkl\b\b\b\b\b\b\b\b\b\b\b\b\b\b\b\b\b\b\b\b                    \b\b\b\b\b\b\b\b\b\b\b\b\b\b\b\b\b\b\b\b 28% - ch11_data.pkl\b\b\b\b\b\b\b\b\b\b\b\b\b\b\b\b\b\b\b\b                    \b\b\b\b\b\b\b\b\b\b\b\b\b\b\b\b\b\b\b\b 30% - ch11_data.pkl\b\b\b\b\b\b\b\b\b\b\b\b\b\b\b\b\b\b\b\b                    \b\b\b\b\b\b\b\b\b\b\b\b\b\b\b\b\b\b\b\b 31% - ch11_data.pkl\b\b\b\b\b\b\b\b\b\b\b\b\b\b\b\b\b\b\b\b                    \b\b\b\b\b\b\b\b\b\b\b\b\b\b\b\b\b\b\b\b 33% - ch11_data.pkl\b\b\b\b\b\b\b\b\b\b\b\b\b\b\b\b\b\b\b\b                    \b\b\b\b\b\b\b\b\b\b\b\b\b\b\b\b\b\b\b\b 35% - ch11_data.pkl\b\b\b\b\b\b\b\b\b\b\b\b\b\b\b\b\b\b\b\b                    \b\b\b\b\b\b\b\b\b\b\b\b\b\b\b\b\b\b\b\b 36% - ch11_data.pkl\b\b\b\b\b\b\b\b\b\b\b\b\b\b\b\b\b\b\b\b                    \b\b\b\b\b\b\b\b\b\b\b\b\b\b\b\b\b\b\b\b 38% - ch11_data.pkl\b\b\b\b\b\b\b\b\b\b\b\b\b\b\b\b\b\b\b\b                    \b\b\b\b\b\b\b\b\b\b\b\b\b\b\b\b\b\b\b\b 39% - ch11_data.pkl\b\b\b\b\b\b\b\b\b\b\b\b\b\b\b\b\b\b\b\b                    \b\b\b\b\b\b\b\b\b\b\b\b\b\b\b\b\b\b\b\b 41% - ch11_data.pkl\b\b\b\b\b\b\b\b\b\b\b\b\b\b\b\b\b\b\b\b                    \b\b\b\b\b\b\b\b\b\b\b\b\b\b\b\b\b\b\b\b 42% - ch11_data.pkl\b\b\b\b\b\b\b\b\b\b\b\b\b\b\b\b\b\b\b\b                    \b\b\b\b\b\b\b\b\b\b\b\b\b\b\b\b\b\b\b\b 44% - ch11_data.pkl\b\b\b\b\b\b\b\b\b\b\b\b\b\b\b\b\b\b\b\b                    \b\b\b\b\b\b\b\b\b\b\b\b\b\b\b\b\b\b\b\b 45% - ch11_data.pkl\b\b\b\b\b\b\b\b\b\b\b\b\b\b\b\b\b\b\b\b                    \b\b\b\b\b\b\b\b\b\b\b\b\b\b\b\b\b\b\b\b 47% - ch11_data.pkl\b\b\b\b\b\b\b\b\b\b\b\b\b\b\b\b\b\b\b\b                    \b\b\b\b\b\b\b\b\b\b\b\b\b\b\b\b\b\b\b\b 48% - ch11_data.pkl\b\b\b\b\b\b\b\b\b\b\b\b\b\b\b\b\b\b\b\b                    \b\b\b\b\b\b\b\b\b\b\b\b\b\b\b\b\b\b\b\b 50% - ch11_data.pkl\b\b\b\b\b\b\b\b\b\b\b\b\b\b\b\b\b\b\b\b                    \b\b\b\b\b\b\b\b\b\b\b\b\b\b\b\b\b\b\b\b 51% - ch11_data.pkl\b\b\b\b\b\b\b\b\b\b\b\b\b\b\b\b\b\b\b\b                    \b\b\b\b\b\b\b\b\b\b\b\b\b\b\b\b\b\b\b\b 53% - ch11_data.pkl\b\b\b\b\b\b\b\b\b\b\b\b\b\b\b\b\b\b\b\b                    \b\b\b\b\b\b\b\b\b\b\b\b\b\b\b\b\b\b\b\b 54% - ch11_data.pkl\b\b\b\b\b\b\b\b\b\b\b\b\b\b\b\b\b\b\b\b                    \b\b\b\b\b\b\b\b\b\b\b\b\b\b\b\b\b\b\b\b 56% - ch11_data.pkl\b\b\b\b\b\b\b\b\b\b\b\b\b\b\b\b\b\b\b\b                    \b\b\b\b\b\b\b\b\b\b\b\b\b\b\b\b\b\b\b\b 57% - ch11_data.pkl\b\b\b\b\b\b\b\b\b\b\b\b\b\b\b\b\b\b\b\b                    \b\b\b\b\b\b\b\b\b\b\b\b\b\b\b\b\b\b\b\b 59% - ch11_data.pkl\b\b\b\b\b\b\b\b\b\b\b\b\b\b\b\b\b\b\b\b                    \b\b\b\b\b\b\b\b\b\b\b\b\b\b\b\b\b\b\b\b 60% - ch11_data.pkl\b\b\b\b\b\b\b\b\b\b\b\b\b\b\b\b\b\b\b\b                    \b\b\b\b\b\b\b\b\b\b\b\b\b\b\b\b\b\b\b\b 62% - ch11_data.pkl\b\b\b\b\b\b\b\b\b\b\b\b\b\b\b\b\b\b\b\b                    \b\b\b\b\b\b\b\b\b\b\b\b\b\b\b\b\b\b\b\b 63% - ch11_data.pkl\b\b\b\b\b\b\b\b\b\b\b\b\b\b\b\b\b\b\b\b                    \b\b\b\b\b\b\b\b\b\b\b\b\b\b\b\b\b\b\b\b 65% - ch11_data.pkl\b\b\b\b\b\b\b\b\b\b\b\b\b\b\b\b\b\b\b\b                    \b\b\b\b\b\b\b\b\b\b\b\b\b\b\b\b\b\b\b\b 66% - ch11_data.pkl\b\b\b\b\b\b\b\b\b\b\b\b\b\b\b\b\b\b\b\b                    \b\b\b\b\b\b\b\b\b\b\b\b\b\b\b\b\b\b\b\b 68% - ch11_data.pkl\b\b\b\b\b\b\b\b\b\b\b\b\b\b\b\b\b\b\b\b                    \b\b\b\b\b\b\b\b\b\b\b\b\b\b\b\b\b\b\b\b 69% - ch11_data.pkl\b\b\b\b\b\b\b\b\b\b\b\b\b\b\b\b\b\b\b\b                    \b\b\b\b\b\b\b\b\b\b\b\b\b\b\b\b\b\b\b\b 71% - ch11_data.pkl\b\b\b\b\b\b\b\b\b\b\b\b\b\b\b\b\b\b\b\b                    \b\b\b\b\b\b\b\b\b\b\b\b\b\b\b\b\b\b\b\b 72% - ch11_data.pkl\b\b\b\b\b\b\b\b\b\b\b\b\b\b\b\b\b\b\b\b                    \b\b\b\b\b\b\b\b\b\b\b\b\b\b\b\b\b\b\b\b 74% - ch11_data.pkl\b\b\b\b\b\b\b\b\b\b\b\b\b\b\b\b\b\b\b\b                    \b\b\b\b\b\b\b\b\b\b\b\b\b\b\b\b\b\b\b\b 75% - ch11_data.pkl\b\b\b\b\b\b\b\b\b\b\b\b\b\b\b\b\b\b\b\b                    \b\b\b\b\b\b\b\b\b\b\b\b\b\b\b\b\b\b\b\b 76% - ch11_data.pkl\b\b\b\b\b\b\b\b\b\b\b\b\b\b\b\b\b\b\b\b                    \b\b\b\b\b\b\b\b\b\b\b\b\b\b\b\b\b\b\b\b 78% - ch11_data.pkl\b\b\b\b\b\b\b\b\b\b\b\b\b\b\b\b\b\b\b\b                    \b\b\b\b\b\b\b\b\b\b\b\b\b\b\b\b\b\b\b\b 79% - ch11_data.pkl\b\b\b\b\b\b\b\b\b\b\b\b\b\b\b\b\b\b\b\b                    \b\b\b\b\b\b\b\b\b\b\b\b\b\b\b\b\b\b\b\b 81% - ch11_data.pkl\b\b\b\b\b\b\b\b\b\b\b\b\b\b\b\b\b\b\b\b                    \b\b\b\b\b\b\b\b\b\b\b\b\b\b\b\b\b\b\b\b 82% - ch11_data.pkl\b\b\b\b\b\b\b\b\b\b\b\b\b\b\b\b\b\b\b\b                    \b\b\b\b\b\b\b\b\b\b\b\b\b\b\b\b\b\b\b\b 84% - ch11_data.pkl\b\b\b\b\b\b\b\b\b\b\b\b\b\b\b\b\b\b\b\b                    \b\b\b\b\b\b\b\b\b\b\b\b\b\b\b\b\b\b\b\b 85% - ch11_data.pkl\b\b\b\b\b\b\b\b\b\b\b\b\b\b\b\b\b\b\b\b                    \b\b\b\b\b\b\b\b\b\b\b\b\b\b\b\b\b\b\b\b 87% - ch11_data.pkl\b\b\b\b\b\b\b\b\b\b\b\b\b\b\b\b\b\b\b\b                    \b\b\b\b\b\b\b\b\b\b\b\b\b\b\b\b\b\b\b\b 88% - ch11_data.pkl\b\b\b\b\b\b\b\b\b\b\b\b\b\b\b\b\b\b\b\b                    \b\b\b\b\b\b\b\b\b\b\b\b\b\b\b\b\b\b\b\b 90% - ch11_data.pkl\b\b\b\b\b\b\b\b\b\b\b\b\b\b\b\b\b\b\b\b                    \b\b\b\b\b\b\b\b\b\b\b\b\b\b\b\b\b\b\b\b 91% - ch11_data.pkl\b\b\b\b\b\b\b\b\b\b\b\b\b\b\b\b\b\b\b\b                    \b\b\b\b\b\b\b\b\b\b\b\b\b\b\b\b\b\b\b\b 92% - ch11_data.pkl\b\b\b\b\b\b\b\b\b\b\b\b\b\b\b\b\b\b\b\b                    \b\b\b\b\b\b\b\b\b\b\b\b\b\b\b\b\b\b\b\b 94% - ch11_data.pkl\b\b\b\b\b\b\b\b\b\b\b\b\b\b\b\b\b\b\b\b                    \b\b\b\b\b\b\b\b\b\b\b\b\b\b\b\b\b\b\b\b 95% - ch11_data.pkl\b\b\b\b\b\b\b\b\b\b\b\b\b\b\b\b\b\b\b\b                    \b\b\b\b\b\b\b\b\b\b\b\b\b\b\b\b\b\b\b\b 97% - ch11_data.pkl\b\b\b\b\b\b\b\b\b\b\b\b\b\b\b\b\b\b\b\b                    \b\b\b\b\b\b\b\b\b\b\b\b\b\b\b\b\b\b\b\b 99% - ch11_data.pkl\b\b\b\b\b\b\b\b\b\b\b\b\b\b\b\b\b\b\b\b                    \b\b\b\b\b\b\b\b\b\b\b\b\b\b\b\b\b\b\b\bEverything is Ok\n",
            "\n",
            "Size:       4879278343\n",
            "Compressed: 47725670\n",
            "Finished with ch11.7z\n",
            "\n",
            "--2025-09-14 16:34:19--  https://zenodo.org/records/6299967/files/ch14_data.7z?download=1\n",
            "Resolving zenodo.org (zenodo.org)... 188.185.48.194, 188.185.45.92, 188.185.43.25, ...\n",
            "Connecting to zenodo.org (zenodo.org)|188.185.48.194|:443... connected.\n",
            "HTTP request sent, awaiting response... 200 OK\n",
            "Length: 48252847 (46M) [application/octet-stream]\n",
            "Saving to: ‘ch14.7z’\n",
            "\n",
            "ch14.7z             100%[===================>]  46.02M  71.2MB/s    in 0.6s    \n",
            "\n",
            "2025-09-14 16:34:20 (71.2 MB/s) - ‘ch14.7z’ saved [48252847/48252847]\n",
            "\n",
            "\n",
            "7-Zip [64] 16.02 : Copyright (c) 1999-2016 Igor Pavlov : 2016-05-21\n",
            "p7zip Version 16.02 (locale=en_US.UTF-8,Utf16=on,HugeFiles=on,64 bits,12 CPUs Intel(R) Xeon(R) CPU @ 2.20GHz (50657),ASM,AES-NI)\n",
            "\n",
            "Scanning the drive for archives:\n",
            "  0M Scan\b\b\b\b\b\b\b\b\b         \b\b\b\b\b\b\b\b\b1 file, 48252847 bytes (47 MiB)\n",
            "\n",
            "Extracting archive: ch14.7z\n",
            "--\n",
            "Path = ch14.7z\n",
            "Type = 7z\n",
            "Physical Size = 48252847\n",
            "Headers Size = 130\n",
            "Method = LZMA2:24\n",
            "Solid = -\n",
            "Blocks = 1\n",
            "\n",
            "  0%\b\b\b\b    \b\b\b\b  1% - ch14_data.pkl\b\b\b\b\b\b\b\b\b\b\b\b\b\b\b\b\b\b\b\b                    \b\b\b\b\b\b\b\b\b\b\b\b\b\b\b\b\b\b\b\b  3% - ch14_data.pkl\b\b\b\b\b\b\b\b\b\b\b\b\b\b\b\b\b\b\b\b                    \b\b\b\b\b\b\b\b\b\b\b\b\b\b\b\b\b\b\b\b  5% - ch14_data.pkl\b\b\b\b\b\b\b\b\b\b\b\b\b\b\b\b\b\b\b\b                    \b\b\b\b\b\b\b\b\b\b\b\b\b\b\b\b\b\b\b\b  6% - ch14_data.pkl\b\b\b\b\b\b\b\b\b\b\b\b\b\b\b\b\b\b\b\b                    \b\b\b\b\b\b\b\b\b\b\b\b\b\b\b\b\b\b\b\b  8% - ch14_data.pkl\b\b\b\b\b\b\b\b\b\b\b\b\b\b\b\b\b\b\b\b                    \b\b\b\b\b\b\b\b\b\b\b\b\b\b\b\b\b\b\b\b 10% - ch14_data.pkl\b\b\b\b\b\b\b\b\b\b\b\b\b\b\b\b\b\b\b\b                    \b\b\b\b\b\b\b\b\b\b\b\b\b\b\b\b\b\b\b\b 11% - ch14_data.pkl\b\b\b\b\b\b\b\b\b\b\b\b\b\b\b\b\b\b\b\b                    \b\b\b\b\b\b\b\b\b\b\b\b\b\b\b\b\b\b\b\b 13% - ch14_data.pkl\b\b\b\b\b\b\b\b\b\b\b\b\b\b\b\b\b\b\b\b                    \b\b\b\b\b\b\b\b\b\b\b\b\b\b\b\b\b\b\b\b 15% - ch14_data.pkl\b\b\b\b\b\b\b\b\b\b\b\b\b\b\b\b\b\b\b\b                    \b\b\b\b\b\b\b\b\b\b\b\b\b\b\b\b\b\b\b\b 16% - ch14_data.pkl\b\b\b\b\b\b\b\b\b\b\b\b\b\b\b\b\b\b\b\b                    \b\b\b\b\b\b\b\b\b\b\b\b\b\b\b\b\b\b\b\b 18% - ch14_data.pkl\b\b\b\b\b\b\b\b\b\b\b\b\b\b\b\b\b\b\b\b                    \b\b\b\b\b\b\b\b\b\b\b\b\b\b\b\b\b\b\b\b 20% - ch14_data.pkl\b\b\b\b\b\b\b\b\b\b\b\b\b\b\b\b\b\b\b\b                    \b\b\b\b\b\b\b\b\b\b\b\b\b\b\b\b\b\b\b\b 21% - ch14_data.pkl\b\b\b\b\b\b\b\b\b\b\b\b\b\b\b\b\b\b\b\b                    \b\b\b\b\b\b\b\b\b\b\b\b\b\b\b\b\b\b\b\b 23% - ch14_data.pkl\b\b\b\b\b\b\b\b\b\b\b\b\b\b\b\b\b\b\b\b                    \b\b\b\b\b\b\b\b\b\b\b\b\b\b\b\b\b\b\b\b 25% - ch14_data.pkl\b\b\b\b\b\b\b\b\b\b\b\b\b\b\b\b\b\b\b\b                    \b\b\b\b\b\b\b\b\b\b\b\b\b\b\b\b\b\b\b\b 26% - ch14_data.pkl\b\b\b\b\b\b\b\b\b\b\b\b\b\b\b\b\b\b\b\b                    \b\b\b\b\b\b\b\b\b\b\b\b\b\b\b\b\b\b\b\b 28% - ch14_data.pkl\b\b\b\b\b\b\b\b\b\b\b\b\b\b\b\b\b\b\b\b                    \b\b\b\b\b\b\b\b\b\b\b\b\b\b\b\b\b\b\b\b 30% - ch14_data.pkl\b\b\b\b\b\b\b\b\b\b\b\b\b\b\b\b\b\b\b\b                    \b\b\b\b\b\b\b\b\b\b\b\b\b\b\b\b\b\b\b\b 31% - ch14_data.pkl\b\b\b\b\b\b\b\b\b\b\b\b\b\b\b\b\b\b\b\b                    \b\b\b\b\b\b\b\b\b\b\b\b\b\b\b\b\b\b\b\b 33% - ch14_data.pkl\b\b\b\b\b\b\b\b\b\b\b\b\b\b\b\b\b\b\b\b                    \b\b\b\b\b\b\b\b\b\b\b\b\b\b\b\b\b\b\b\b 35% - ch14_data.pkl\b\b\b\b\b\b\b\b\b\b\b\b\b\b\b\b\b\b\b\b                    \b\b\b\b\b\b\b\b\b\b\b\b\b\b\b\b\b\b\b\b 36% - ch14_data.pkl\b\b\b\b\b\b\b\b\b\b\b\b\b\b\b\b\b\b\b\b                    \b\b\b\b\b\b\b\b\b\b\b\b\b\b\b\b\b\b\b\b 38% - ch14_data.pkl\b\b\b\b\b\b\b\b\b\b\b\b\b\b\b\b\b\b\b\b                    \b\b\b\b\b\b\b\b\b\b\b\b\b\b\b\b\b\b\b\b 40% - ch14_data.pkl\b\b\b\b\b\b\b\b\b\b\b\b\b\b\b\b\b\b\b\b                    \b\b\b\b\b\b\b\b\b\b\b\b\b\b\b\b\b\b\b\b 41% - ch14_data.pkl\b\b\b\b\b\b\b\b\b\b\b\b\b\b\b\b\b\b\b\b                    \b\b\b\b\b\b\b\b\b\b\b\b\b\b\b\b\b\b\b\b 43% - ch14_data.pkl\b\b\b\b\b\b\b\b\b\b\b\b\b\b\b\b\b\b\b\b                    \b\b\b\b\b\b\b\b\b\b\b\b\b\b\b\b\b\b\b\b 44% - ch14_data.pkl\b\b\b\b\b\b\b\b\b\b\b\b\b\b\b\b\b\b\b\b                    \b\b\b\b\b\b\b\b\b\b\b\b\b\b\b\b\b\b\b\b 46% - ch14_data.pkl\b\b\b\b\b\b\b\b\b\b\b\b\b\b\b\b\b\b\b\b                    \b\b\b\b\b\b\b\b\b\b\b\b\b\b\b\b\b\b\b\b 48% - ch14_data.pkl\b\b\b\b\b\b\b\b\b\b\b\b\b\b\b\b\b\b\b\b                    \b\b\b\b\b\b\b\b\b\b\b\b\b\b\b\b\b\b\b\b 50% - ch14_data.pkl\b\b\b\b\b\b\b\b\b\b\b\b\b\b\b\b\b\b\b\b                    \b\b\b\b\b\b\b\b\b\b\b\b\b\b\b\b\b\b\b\b 51% - ch14_data.pkl\b\b\b\b\b\b\b\b\b\b\b\b\b\b\b\b\b\b\b\b                    \b\b\b\b\b\b\b\b\b\b\b\b\b\b\b\b\b\b\b\b 53% - ch14_data.pkl\b\b\b\b\b\b\b\b\b\b\b\b\b\b\b\b\b\b\b\b                    \b\b\b\b\b\b\b\b\b\b\b\b\b\b\b\b\b\b\b\b 54% - ch14_data.pkl\b\b\b\b\b\b\b\b\b\b\b\b\b\b\b\b\b\b\b\b                    \b\b\b\b\b\b\b\b\b\b\b\b\b\b\b\b\b\b\b\b 56% - ch14_data.pkl\b\b\b\b\b\b\b\b\b\b\b\b\b\b\b\b\b\b\b\b                    \b\b\b\b\b\b\b\b\b\b\b\b\b\b\b\b\b\b\b\b 57% - ch14_data.pkl\b\b\b\b\b\b\b\b\b\b\b\b\b\b\b\b\b\b\b\b                    \b\b\b\b\b\b\b\b\b\b\b\b\b\b\b\b\b\b\b\b 59% - ch14_data.pkl\b\b\b\b\b\b\b\b\b\b\b\b\b\b\b\b\b\b\b\b                    \b\b\b\b\b\b\b\b\b\b\b\b\b\b\b\b\b\b\b\b 61% - ch14_data.pkl\b\b\b\b\b\b\b\b\b\b\b\b\b\b\b\b\b\b\b\b                    \b\b\b\b\b\b\b\b\b\b\b\b\b\b\b\b\b\b\b\b 62% - ch14_data.pkl\b\b\b\b\b\b\b\b\b\b\b\b\b\b\b\b\b\b\b\b                    \b\b\b\b\b\b\b\b\b\b\b\b\b\b\b\b\b\b\b\b 64% - ch14_data.pkl\b\b\b\b\b\b\b\b\b\b\b\b\b\b\b\b\b\b\b\b                    \b\b\b\b\b\b\b\b\b\b\b\b\b\b\b\b\b\b\b\b 65% - ch14_data.pkl\b\b\b\b\b\b\b\b\b\b\b\b\b\b\b\b\b\b\b\b                    \b\b\b\b\b\b\b\b\b\b\b\b\b\b\b\b\b\b\b\b 67% - ch14_data.pkl\b\b\b\b\b\b\b\b\b\b\b\b\b\b\b\b\b\b\b\b                    \b\b\b\b\b\b\b\b\b\b\b\b\b\b\b\b\b\b\b\b 68% - ch14_data.pkl\b\b\b\b\b\b\b\b\b\b\b\b\b\b\b\b\b\b\b\b                    \b\b\b\b\b\b\b\b\b\b\b\b\b\b\b\b\b\b\b\b 70% - ch14_data.pkl\b\b\b\b\b\b\b\b\b\b\b\b\b\b\b\b\b\b\b\b                    \b\b\b\b\b\b\b\b\b\b\b\b\b\b\b\b\b\b\b\b 71% - ch14_data.pkl\b\b\b\b\b\b\b\b\b\b\b\b\b\b\b\b\b\b\b\b                    \b\b\b\b\b\b\b\b\b\b\b\b\b\b\b\b\b\b\b\b 73% - ch14_data.pkl\b\b\b\b\b\b\b\b\b\b\b\b\b\b\b\b\b\b\b\b                    \b\b\b\b\b\b\b\b\b\b\b\b\b\b\b\b\b\b\b\b 75% - ch14_data.pkl\b\b\b\b\b\b\b\b\b\b\b\b\b\b\b\b\b\b\b\b                    \b\b\b\b\b\b\b\b\b\b\b\b\b\b\b\b\b\b\b\b 76% - ch14_data.pkl\b\b\b\b\b\b\b\b\b\b\b\b\b\b\b\b\b\b\b\b                    \b\b\b\b\b\b\b\b\b\b\b\b\b\b\b\b\b\b\b\b 78% - ch14_data.pkl\b\b\b\b\b\b\b\b\b\b\b\b\b\b\b\b\b\b\b\b                    \b\b\b\b\b\b\b\b\b\b\b\b\b\b\b\b\b\b\b\b 79% - ch14_data.pkl\b\b\b\b\b\b\b\b\b\b\b\b\b\b\b\b\b\b\b\b                    \b\b\b\b\b\b\b\b\b\b\b\b\b\b\b\b\b\b\b\b 81% - ch14_data.pkl\b\b\b\b\b\b\b\b\b\b\b\b\b\b\b\b\b\b\b\b                    \b\b\b\b\b\b\b\b\b\b\b\b\b\b\b\b\b\b\b\b 82% - ch14_data.pkl\b\b\b\b\b\b\b\b\b\b\b\b\b\b\b\b\b\b\b\b                    \b\b\b\b\b\b\b\b\b\b\b\b\b\b\b\b\b\b\b\b 84% - ch14_data.pkl\b\b\b\b\b\b\b\b\b\b\b\b\b\b\b\b\b\b\b\b                    \b\b\b\b\b\b\b\b\b\b\b\b\b\b\b\b\b\b\b\b 85% - ch14_data.pkl\b\b\b\b\b\b\b\b\b\b\b\b\b\b\b\b\b\b\b\b                    \b\b\b\b\b\b\b\b\b\b\b\b\b\b\b\b\b\b\b\b 87% - ch14_data.pkl\b\b\b\b\b\b\b\b\b\b\b\b\b\b\b\b\b\b\b\b                    \b\b\b\b\b\b\b\b\b\b\b\b\b\b\b\b\b\b\b\b 88% - ch14_data.pkl\b\b\b\b\b\b\b\b\b\b\b\b\b\b\b\b\b\b\b\b                    \b\b\b\b\b\b\b\b\b\b\b\b\b\b\b\b\b\b\b\b 90% - ch14_data.pkl\b\b\b\b\b\b\b\b\b\b\b\b\b\b\b\b\b\b\b\b                    \b\b\b\b\b\b\b\b\b\b\b\b\b\b\b\b\b\b\b\b 91% - ch14_data.pkl\b\b\b\b\b\b\b\b\b\b\b\b\b\b\b\b\b\b\b\b                    \b\b\b\b\b\b\b\b\b\b\b\b\b\b\b\b\b\b\b\b 93% - ch14_data.pkl\b\b\b\b\b\b\b\b\b\b\b\b\b\b\b\b\b\b\b\b                    \b\b\b\b\b\b\b\b\b\b\b\b\b\b\b\b\b\b\b\b 94% - ch14_data.pkl\b\b\b\b\b\b\b\b\b\b\b\b\b\b\b\b\b\b\b\b                    \b\b\b\b\b\b\b\b\b\b\b\b\b\b\b\b\b\b\b\b 96% - ch14_data.pkl\b\b\b\b\b\b\b\b\b\b\b\b\b\b\b\b\b\b\b\b                    \b\b\b\b\b\b\b\b\b\b\b\b\b\b\b\b\b\b\b\b 98% - ch14_data.pkl\b\b\b\b\b\b\b\b\b\b\b\b\b\b\b\b\b\b\b\b                    \b\b\b\b\b\b\b\b\b\b\b\b\b\b\b\b\b\b\b\bEverything is Ok\n",
            "\n",
            "Size:       4556347799\n",
            "Compressed: 48252847\n",
            "Finished with ch14.7z\n",
            "\n",
            "--2025-09-14 16:34:33--  https://zenodo.org/records/6299967/files/ch16_data.7z?download=1\n",
            "Resolving zenodo.org (zenodo.org)... 188.185.48.194, 188.185.45.92, 188.185.43.25, ...\n",
            "Connecting to zenodo.org (zenodo.org)|188.185.48.194|:443... connected.\n",
            "HTTP request sent, awaiting response... 200 OK\n",
            "Length: 36325963 (35M) [application/octet-stream]\n",
            "Saving to: ‘ch16.7z’\n",
            "\n",
            "ch16.7z             100%[===================>]  34.64M  85.2MB/s    in 0.4s    \n",
            "\n",
            "2025-09-14 16:34:33 (85.2 MB/s) - ‘ch16.7z’ saved [36325963/36325963]\n",
            "\n",
            "\n",
            "7-Zip [64] 16.02 : Copyright (c) 1999-2016 Igor Pavlov : 2016-05-21\n",
            "p7zip Version 16.02 (locale=en_US.UTF-8,Utf16=on,HugeFiles=on,64 bits,12 CPUs Intel(R) Xeon(R) CPU @ 2.20GHz (50657),ASM,AES-NI)\n",
            "\n",
            "Scanning the drive for archives:\n",
            "  0M Scan\b\b\b\b\b\b\b\b\b         \b\b\b\b\b\b\b\b\b1 file, 36325963 bytes (35 MiB)\n",
            "\n",
            "Extracting archive: ch16.7z\n",
            "--\n",
            "Path = ch16.7z\n",
            "Type = 7z\n",
            "Physical Size = 36325963\n",
            "Headers Size = 130\n",
            "Method = LZMA2:24\n",
            "Solid = -\n",
            "Blocks = 1\n",
            "\n",
            "  0%\b\b\b\b    \b\b\b\b  1% - ch16_data.pkl\b\b\b\b\b\b\b\b\b\b\b\b\b\b\b\b\b\b\b\b                    \b\b\b\b\b\b\b\b\b\b\b\b\b\b\b\b\b\b\b\b  3% - ch16_data.pkl\b\b\b\b\b\b\b\b\b\b\b\b\b\b\b\b\b\b\b\b                    \b\b\b\b\b\b\b\b\b\b\b\b\b\b\b\b\b\b\b\b  5% - ch16_data.pkl\b\b\b\b\b\b\b\b\b\b\b\b\b\b\b\b\b\b\b\b                    \b\b\b\b\b\b\b\b\b\b\b\b\b\b\b\b\b\b\b\b  7% - ch16_data.pkl\b\b\b\b\b\b\b\b\b\b\b\b\b\b\b\b\b\b\b\b                    \b\b\b\b\b\b\b\b\b\b\b\b\b\b\b\b\b\b\b\b  9% - ch16_data.pkl\b\b\b\b\b\b\b\b\b\b\b\b\b\b\b\b\b\b\b\b                    \b\b\b\b\b\b\b\b\b\b\b\b\b\b\b\b\b\b\b\b 11% - ch16_data.pkl\b\b\b\b\b\b\b\b\b\b\b\b\b\b\b\b\b\b\b\b                    \b\b\b\b\b\b\b\b\b\b\b\b\b\b\b\b\b\b\b\b 13% - ch16_data.pkl\b\b\b\b\b\b\b\b\b\b\b\b\b\b\b\b\b\b\b\b                    \b\b\b\b\b\b\b\b\b\b\b\b\b\b\b\b\b\b\b\b 15% - ch16_data.pkl\b\b\b\b\b\b\b\b\b\b\b\b\b\b\b\b\b\b\b\b                    \b\b\b\b\b\b\b\b\b\b\b\b\b\b\b\b\b\b\b\b 17% - ch16_data.pkl\b\b\b\b\b\b\b\b\b\b\b\b\b\b\b\b\b\b\b\b                    \b\b\b\b\b\b\b\b\b\b\b\b\b\b\b\b\b\b\b\b 19% - ch16_data.pkl\b\b\b\b\b\b\b\b\b\b\b\b\b\b\b\b\b\b\b\b                    \b\b\b\b\b\b\b\b\b\b\b\b\b\b\b\b\b\b\b\b 21% - ch16_data.pkl\b\b\b\b\b\b\b\b\b\b\b\b\b\b\b\b\b\b\b\b                    \b\b\b\b\b\b\b\b\b\b\b\b\b\b\b\b\b\b\b\b 24% - ch16_data.pkl\b\b\b\b\b\b\b\b\b\b\b\b\b\b\b\b\b\b\b\b                    \b\b\b\b\b\b\b\b\b\b\b\b\b\b\b\b\b\b\b\b 26% - ch16_data.pkl\b\b\b\b\b\b\b\b\b\b\b\b\b\b\b\b\b\b\b\b                    \b\b\b\b\b\b\b\b\b\b\b\b\b\b\b\b\b\b\b\b 28% - ch16_data.pkl\b\b\b\b\b\b\b\b\b\b\b\b\b\b\b\b\b\b\b\b                    \b\b\b\b\b\b\b\b\b\b\b\b\b\b\b\b\b\b\b\b 30% - ch16_data.pkl\b\b\b\b\b\b\b\b\b\b\b\b\b\b\b\b\b\b\b\b                    \b\b\b\b\b\b\b\b\b\b\b\b\b\b\b\b\b\b\b\b 32% - ch16_data.pkl\b\b\b\b\b\b\b\b\b\b\b\b\b\b\b\b\b\b\b\b                    \b\b\b\b\b\b\b\b\b\b\b\b\b\b\b\b\b\b\b\b 34% - ch16_data.pkl\b\b\b\b\b\b\b\b\b\b\b\b\b\b\b\b\b\b\b\b                    \b\b\b\b\b\b\b\b\b\b\b\b\b\b\b\b\b\b\b\b 36% - ch16_data.pkl\b\b\b\b\b\b\b\b\b\b\b\b\b\b\b\b\b\b\b\b                    \b\b\b\b\b\b\b\b\b\b\b\b\b\b\b\b\b\b\b\b 38% - ch16_data.pkl\b\b\b\b\b\b\b\b\b\b\b\b\b\b\b\b\b\b\b\b                    \b\b\b\b\b\b\b\b\b\b\b\b\b\b\b\b\b\b\b\b 40% - ch16_data.pkl\b\b\b\b\b\b\b\b\b\b\b\b\b\b\b\b\b\b\b\b                    \b\b\b\b\b\b\b\b\b\b\b\b\b\b\b\b\b\b\b\b 42% - ch16_data.pkl\b\b\b\b\b\b\b\b\b\b\b\b\b\b\b\b\b\b\b\b                    \b\b\b\b\b\b\b\b\b\b\b\b\b\b\b\b\b\b\b\b 44% - ch16_data.pkl\b\b\b\b\b\b\b\b\b\b\b\b\b\b\b\b\b\b\b\b                    \b\b\b\b\b\b\b\b\b\b\b\b\b\b\b\b\b\b\b\b 46% - ch16_data.pkl\b\b\b\b\b\b\b\b\b\b\b\b\b\b\b\b\b\b\b\b                    \b\b\b\b\b\b\b\b\b\b\b\b\b\b\b\b\b\b\b\b 48% - ch16_data.pkl\b\b\b\b\b\b\b\b\b\b\b\b\b\b\b\b\b\b\b\b                    \b\b\b\b\b\b\b\b\b\b\b\b\b\b\b\b\b\b\b\b 50% - ch16_data.pkl\b\b\b\b\b\b\b\b\b\b\b\b\b\b\b\b\b\b\b\b                    \b\b\b\b\b\b\b\b\b\b\b\b\b\b\b\b\b\b\b\b 52% - ch16_data.pkl\b\b\b\b\b\b\b\b\b\b\b\b\b\b\b\b\b\b\b\b                    \b\b\b\b\b\b\b\b\b\b\b\b\b\b\b\b\b\b\b\b 54% - ch16_data.pkl\b\b\b\b\b\b\b\b\b\b\b\b\b\b\b\b\b\b\b\b                    \b\b\b\b\b\b\b\b\b\b\b\b\b\b\b\b\b\b\b\b 56% - ch16_data.pkl\b\b\b\b\b\b\b\b\b\b\b\b\b\b\b\b\b\b\b\b                    \b\b\b\b\b\b\b\b\b\b\b\b\b\b\b\b\b\b\b\b 58% - ch16_data.pkl\b\b\b\b\b\b\b\b\b\b\b\b\b\b\b\b\b\b\b\b                    \b\b\b\b\b\b\b\b\b\b\b\b\b\b\b\b\b\b\b\b 60% - ch16_data.pkl\b\b\b\b\b\b\b\b\b\b\b\b\b\b\b\b\b\b\b\b                    \b\b\b\b\b\b\b\b\b\b\b\b\b\b\b\b\b\b\b\b 62% - ch16_data.pkl\b\b\b\b\b\b\b\b\b\b\b\b\b\b\b\b\b\b\b\b                    \b\b\b\b\b\b\b\b\b\b\b\b\b\b\b\b\b\b\b\b 64% - ch16_data.pkl\b\b\b\b\b\b\b\b\b\b\b\b\b\b\b\b\b\b\b\b                    \b\b\b\b\b\b\b\b\b\b\b\b\b\b\b\b\b\b\b\b 66% - ch16_data.pkl\b\b\b\b\b\b\b\b\b\b\b\b\b\b\b\b\b\b\b\b                    \b\b\b\b\b\b\b\b\b\b\b\b\b\b\b\b\b\b\b\b 68% - ch16_data.pkl\b\b\b\b\b\b\b\b\b\b\b\b\b\b\b\b\b\b\b\b                    \b\b\b\b\b\b\b\b\b\b\b\b\b\b\b\b\b\b\b\b 70% - ch16_data.pkl\b\b\b\b\b\b\b\b\b\b\b\b\b\b\b\b\b\b\b\b                    \b\b\b\b\b\b\b\b\b\b\b\b\b\b\b\b\b\b\b\b 72% - ch16_data.pkl\b\b\b\b\b\b\b\b\b\b\b\b\b\b\b\b\b\b\b\b                    \b\b\b\b\b\b\b\b\b\b\b\b\b\b\b\b\b\b\b\b 74% - ch16_data.pkl\b\b\b\b\b\b\b\b\b\b\b\b\b\b\b\b\b\b\b\b                    \b\b\b\b\b\b\b\b\b\b\b\b\b\b\b\b\b\b\b\b 76% - ch16_data.pkl\b\b\b\b\b\b\b\b\b\b\b\b\b\b\b\b\b\b\b\b                    \b\b\b\b\b\b\b\b\b\b\b\b\b\b\b\b\b\b\b\b 78% - ch16_data.pkl\b\b\b\b\b\b\b\b\b\b\b\b\b\b\b\b\b\b\b\b                    \b\b\b\b\b\b\b\b\b\b\b\b\b\b\b\b\b\b\b\b 80% - ch16_data.pkl\b\b\b\b\b\b\b\b\b\b\b\b\b\b\b\b\b\b\b\b                    \b\b\b\b\b\b\b\b\b\b\b\b\b\b\b\b\b\b\b\b 82% - ch16_data.pkl\b\b\b\b\b\b\b\b\b\b\b\b\b\b\b\b\b\b\b\b                    \b\b\b\b\b\b\b\b\b\b\b\b\b\b\b\b\b\b\b\b 84% - ch16_data.pkl\b\b\b\b\b\b\b\b\b\b\b\b\b\b\b\b\b\b\b\b                    \b\b\b\b\b\b\b\b\b\b\b\b\b\b\b\b\b\b\b\b 86% - ch16_data.pkl\b\b\b\b\b\b\b\b\b\b\b\b\b\b\b\b\b\b\b\b                    \b\b\b\b\b\b\b\b\b\b\b\b\b\b\b\b\b\b\b\b 88% - ch16_data.pkl\b\b\b\b\b\b\b\b\b\b\b\b\b\b\b\b\b\b\b\b                    \b\b\b\b\b\b\b\b\b\b\b\b\b\b\b\b\b\b\b\b 90% - ch16_data.pkl\b\b\b\b\b\b\b\b\b\b\b\b\b\b\b\b\b\b\b\b                    \b\b\b\b\b\b\b\b\b\b\b\b\b\b\b\b\b\b\b\b 92% - ch16_data.pkl\b\b\b\b\b\b\b\b\b\b\b\b\b\b\b\b\b\b\b\b                    \b\b\b\b\b\b\b\b\b\b\b\b\b\b\b\b\b\b\b\b 94% - ch16_data.pkl\b\b\b\b\b\b\b\b\b\b\b\b\b\b\b\b\b\b\b\b                    \b\b\b\b\b\b\b\b\b\b\b\b\b\b\b\b\b\b\b\b 97% - ch16_data.pkl\b\b\b\b\b\b\b\b\b\b\b\b\b\b\b\b\b\b\b\b                    \b\b\b\b\b\b\b\b\b\b\b\b\b\b\b\b\b\b\b\b 99% - ch16_data.pkl\b\b\b\b\b\b\b\b\b\b\b\b\b\b\b\b\b\b\b\b                    \b\b\b\b\b\b\b\b\b\b\b\b\b\b\b\b\b\b\b\bEverything is Ok\n",
            "\n",
            "Size:       3578173275\n",
            "Compressed: 36325963\n",
            "Finished with ch16.7z\n",
            "\n",
            "All required channel files have been downloaded and unzipped.\n"
          ]
        }
      ]
    },
    {
      "cell_type": "code",
      "source": [
        "channels = {\n",
        "    '54 keV': 'ch3_data.pkl',\n",
        "    '235 keV': 'ch11_data.pkl',\n",
        "    '597 keV': 'ch14_data.pkl',\n",
        "    '909 keV': 'ch16_data.pkl'\n",
        "}"
      ],
      "metadata": {
        "id": "C-9GrSrA6Vux"
      },
      "execution_count": 3,
      "outputs": []
    },
    {
      "cell_type": "markdown",
      "source": [
        "Data Preprocessing"
      ],
      "metadata": {
        "id": "9P1-O38F6hua"
      }
    },
    {
      "cell_type": "code",
      "source": [
        "import pandas as pd\n",
        "import numpy as np"
      ],
      "metadata": {
        "id": "NZFs6w4Y7Y01"
      },
      "execution_count": 4,
      "outputs": []
    },
    {
      "cell_type": "markdown",
      "source": [
        "ch3"
      ],
      "metadata": {
        "id": "xhlNnFjL7JzH"
      }
    },
    {
      "cell_type": "code",
      "source": [
        "file_path = 'ch3_data.pkl'"
      ],
      "metadata": {
        "id": "jLyTTBSf6gsw"
      },
      "execution_count": 5,
      "outputs": []
    },
    {
      "cell_type": "code",
      "source": [
        "df = pd.read_pickle(file_path)"
      ],
      "metadata": {
        "id": "MaIgrQRC7TNu"
      },
      "execution_count": 6,
      "outputs": []
    },
    {
      "cell_type": "code",
      "source": [
        "df.dtypes"
      ],
      "metadata": {
        "colab": {
          "base_uri": "https://localhost:8080/",
          "height": 453
        },
        "id": "3NL94EcX7XYF",
        "outputId": "0d554d60-8607-4a7e-d0ad-775c4fecc440"
      },
      "execution_count": 7,
      "outputs": [
        {
          "output_type": "execute_result",
          "data": {
            "text/plain": [
              "unix_time                 float32\n",
              "Lm_eq_OP77Q_intxt         float32\n",
              "ED_MLAT_OP77Q_intxt       float32\n",
              "ED_MLT_OP77Q_intxt_sin    float32\n",
              "ED_MLT_OP77Q_intxt_cos    float32\n",
              "                           ...   \n",
              "flow_speed_t_284          float32\n",
              "flow_speed_t_285          float32\n",
              "flow_speed_t_286          float32\n",
              "flow_speed_t_287          float32\n",
              "eflux                     float32\n",
              "Length: 1159, dtype: object"
            ],
            "text/html": [
              "<div>\n",
              "<style scoped>\n",
              "    .dataframe tbody tr th:only-of-type {\n",
              "        vertical-align: middle;\n",
              "    }\n",
              "\n",
              "    .dataframe tbody tr th {\n",
              "        vertical-align: top;\n",
              "    }\n",
              "\n",
              "    .dataframe thead th {\n",
              "        text-align: right;\n",
              "    }\n",
              "</style>\n",
              "<table border=\"1\" class=\"dataframe\">\n",
              "  <thead>\n",
              "    <tr style=\"text-align: right;\">\n",
              "      <th></th>\n",
              "      <th>0</th>\n",
              "    </tr>\n",
              "  </thead>\n",
              "  <tbody>\n",
              "    <tr>\n",
              "      <th>unix_time</th>\n",
              "      <td>float32</td>\n",
              "    </tr>\n",
              "    <tr>\n",
              "      <th>Lm_eq_OP77Q_intxt</th>\n",
              "      <td>float32</td>\n",
              "    </tr>\n",
              "    <tr>\n",
              "      <th>ED_MLAT_OP77Q_intxt</th>\n",
              "      <td>float32</td>\n",
              "    </tr>\n",
              "    <tr>\n",
              "      <th>ED_MLT_OP77Q_intxt_sin</th>\n",
              "      <td>float32</td>\n",
              "    </tr>\n",
              "    <tr>\n",
              "      <th>ED_MLT_OP77Q_intxt_cos</th>\n",
              "      <td>float32</td>\n",
              "    </tr>\n",
              "    <tr>\n",
              "      <th>...</th>\n",
              "      <td>...</td>\n",
              "    </tr>\n",
              "    <tr>\n",
              "      <th>flow_speed_t_284</th>\n",
              "      <td>float32</td>\n",
              "    </tr>\n",
              "    <tr>\n",
              "      <th>flow_speed_t_285</th>\n",
              "      <td>float32</td>\n",
              "    </tr>\n",
              "    <tr>\n",
              "      <th>flow_speed_t_286</th>\n",
              "      <td>float32</td>\n",
              "    </tr>\n",
              "    <tr>\n",
              "      <th>flow_speed_t_287</th>\n",
              "      <td>float32</td>\n",
              "    </tr>\n",
              "    <tr>\n",
              "      <th>eflux</th>\n",
              "      <td>float32</td>\n",
              "    </tr>\n",
              "  </tbody>\n",
              "</table>\n",
              "<p>1159 rows × 1 columns</p>\n",
              "</div><br><label><b>dtype:</b> object</label>"
            ]
          },
          "metadata": {},
          "execution_count": 7
        }
      ]
    },
    {
      "cell_type": "code",
      "source": [
        "df['datetime'] = pd.to_datetime(df['unix_time'], unit='s') #to datetime conversion"
      ],
      "metadata": {
        "id": "HbLwuK4C7tMx"
      },
      "execution_count": 8,
      "outputs": []
    },
    {
      "cell_type": "code",
      "source": [
        "df.set_index('datetime', inplace=True) #new index"
      ],
      "metadata": {
        "id": "4qkox9358cKh"
      },
      "execution_count": 9,
      "outputs": []
    },
    {
      "cell_type": "code",
      "source": [
        "df.sort_index(inplace=True) #sorting for splitting later\n"
      ],
      "metadata": {
        "id": "tF8iclIb8iZq"
      },
      "execution_count": 10,
      "outputs": []
    },
    {
      "cell_type": "code",
      "source": [
        "df.head(5)"
      ],
      "metadata": {
        "colab": {
          "base_uri": "https://localhost:8080/",
          "height": 454
        },
        "id": "F3D7FYfk8kw_",
        "outputId": "4701272a-b3af-48fd-9c3b-18e8db1a3491"
      },
      "execution_count": 11,
      "outputs": [
        {
          "output_type": "execute_result",
          "data": {
            "text/plain": [
              "                        unix_time  Lm_eq_OP77Q_intxt  ED_MLAT_OP77Q_intxt  \\\n",
              "datetime                                                                    \n",
              "2012-09-02 00:00:00  1.346544e+09            1.26007             0.715324   \n",
              "2012-09-02 00:00:00  1.346544e+09            1.82317            -7.915942   \n",
              "2012-09-02 00:04:16  1.346544e+09            1.62604            -6.264870   \n",
              "2012-09-02 00:04:16  1.346544e+09            1.20314             4.579703   \n",
              "2012-09-02 00:10:40  1.346545e+09            1.19303             8.210025   \n",
              "\n",
              "                     ED_MLT_OP77Q_intxt_sin  ED_MLT_OP77Q_intxt_cos  \\\n",
              "datetime                                                              \n",
              "2012-09-02 00:00:00               -0.979217               -0.202818   \n",
              "2012-09-02 00:00:00               -0.576891               -0.816821   \n",
              "2012-09-02 00:04:16               -0.713122               -0.701040   \n",
              "2012-09-02 00:04:16               -0.990125                0.140190   \n",
              "2012-09-02 00:10:40               -0.864212                0.503128   \n",
              "\n",
              "                     ED_R_OP77Q_intxt  AE_INDEX_t_0  AE_INDEX_t_1  \\\n",
              "datetime                                                            \n",
              "2012-09-02 00:00:00          1.284828        183.75        151.00   \n",
              "2012-09-02 00:00:00          1.787119        183.75        151.00   \n",
              "2012-09-02 00:04:16          1.614041        178.25        164.25   \n",
              "2012-09-02 00:04:16          1.198547        178.25        164.25   \n",
              "2012-09-02 00:10:40          1.172093        169.50        179.75   \n",
              "\n",
              "                     AE_INDEX_t_2  AE_INDEX_t_3  ...  flow_speed_t_279  \\\n",
              "datetime                                         ...                     \n",
              "2012-09-02 00:00:00        169.25        191.50  ...        520.700012   \n",
              "2012-09-02 00:00:00        169.25        191.50  ...        520.700012   \n",
              "2012-09-02 00:04:16        157.25        188.50  ...        519.424988   \n",
              "2012-09-02 00:04:16        157.25        188.50  ...        519.424988   \n",
              "2012-09-02 00:10:40        141.75        187.75  ...        521.299988   \n",
              "\n",
              "                     flow_speed_t_280  flow_speed_t_281  flow_speed_t_282  \\\n",
              "datetime                                                                    \n",
              "2012-09-02 00:00:00        529.674988        531.775024        536.974976   \n",
              "2012-09-02 00:00:00        529.674988        531.775024        536.974976   \n",
              "2012-09-02 00:04:16        527.650024        530.400024        537.750000   \n",
              "2012-09-02 00:04:16        527.650024        530.400024        537.750000   \n",
              "2012-09-02 00:10:40        524.474976        529.525024        535.775024   \n",
              "\n",
              "                     flow_speed_t_283  flow_speed_t_284  flow_speed_t_285  \\\n",
              "datetime                                                                    \n",
              "2012-09-02 00:00:00        543.525024        545.725037        545.974976   \n",
              "2012-09-02 00:00:00        543.525024        545.725037        545.974976   \n",
              "2012-09-02 00:04:16        541.549988        545.075012        545.625000   \n",
              "2012-09-02 00:04:16        541.549988        545.075012        545.625000   \n",
              "2012-09-02 00:10:40        540.299988        544.125000        545.549988   \n",
              "\n",
              "                     flow_speed_t_286  flow_speed_t_287  eflux  \n",
              "datetime                                                        \n",
              "2012-09-02 00:00:00           535.250        527.199951    NaN  \n",
              "2012-09-02 00:00:00           535.250        527.199951    NaN  \n",
              "2012-09-02 00:04:16           539.625        527.824951    NaN  \n",
              "2012-09-02 00:04:16           539.625        527.824951    NaN  \n",
              "2012-09-02 00:10:40           542.000        530.699951    NaN  \n",
              "\n",
              "[5 rows x 1159 columns]"
            ],
            "text/html": [
              "\n",
              "  <div id=\"df-dc5aa391-372f-4eaf-906d-07efa0c86026\" class=\"colab-df-container\">\n",
              "    <div>\n",
              "<style scoped>\n",
              "    .dataframe tbody tr th:only-of-type {\n",
              "        vertical-align: middle;\n",
              "    }\n",
              "\n",
              "    .dataframe tbody tr th {\n",
              "        vertical-align: top;\n",
              "    }\n",
              "\n",
              "    .dataframe thead th {\n",
              "        text-align: right;\n",
              "    }\n",
              "</style>\n",
              "<table border=\"1\" class=\"dataframe\">\n",
              "  <thead>\n",
              "    <tr style=\"text-align: right;\">\n",
              "      <th></th>\n",
              "      <th>unix_time</th>\n",
              "      <th>Lm_eq_OP77Q_intxt</th>\n",
              "      <th>ED_MLAT_OP77Q_intxt</th>\n",
              "      <th>ED_MLT_OP77Q_intxt_sin</th>\n",
              "      <th>ED_MLT_OP77Q_intxt_cos</th>\n",
              "      <th>ED_R_OP77Q_intxt</th>\n",
              "      <th>AE_INDEX_t_0</th>\n",
              "      <th>AE_INDEX_t_1</th>\n",
              "      <th>AE_INDEX_t_2</th>\n",
              "      <th>AE_INDEX_t_3</th>\n",
              "      <th>...</th>\n",
              "      <th>flow_speed_t_279</th>\n",
              "      <th>flow_speed_t_280</th>\n",
              "      <th>flow_speed_t_281</th>\n",
              "      <th>flow_speed_t_282</th>\n",
              "      <th>flow_speed_t_283</th>\n",
              "      <th>flow_speed_t_284</th>\n",
              "      <th>flow_speed_t_285</th>\n",
              "      <th>flow_speed_t_286</th>\n",
              "      <th>flow_speed_t_287</th>\n",
              "      <th>eflux</th>\n",
              "    </tr>\n",
              "    <tr>\n",
              "      <th>datetime</th>\n",
              "      <th></th>\n",
              "      <th></th>\n",
              "      <th></th>\n",
              "      <th></th>\n",
              "      <th></th>\n",
              "      <th></th>\n",
              "      <th></th>\n",
              "      <th></th>\n",
              "      <th></th>\n",
              "      <th></th>\n",
              "      <th></th>\n",
              "      <th></th>\n",
              "      <th></th>\n",
              "      <th></th>\n",
              "      <th></th>\n",
              "      <th></th>\n",
              "      <th></th>\n",
              "      <th></th>\n",
              "      <th></th>\n",
              "      <th></th>\n",
              "      <th></th>\n",
              "    </tr>\n",
              "  </thead>\n",
              "  <tbody>\n",
              "    <tr>\n",
              "      <th>2012-09-02 00:00:00</th>\n",
              "      <td>1.346544e+09</td>\n",
              "      <td>1.26007</td>\n",
              "      <td>0.715324</td>\n",
              "      <td>-0.979217</td>\n",
              "      <td>-0.202818</td>\n",
              "      <td>1.284828</td>\n",
              "      <td>183.75</td>\n",
              "      <td>151.00</td>\n",
              "      <td>169.25</td>\n",
              "      <td>191.50</td>\n",
              "      <td>...</td>\n",
              "      <td>520.700012</td>\n",
              "      <td>529.674988</td>\n",
              "      <td>531.775024</td>\n",
              "      <td>536.974976</td>\n",
              "      <td>543.525024</td>\n",
              "      <td>545.725037</td>\n",
              "      <td>545.974976</td>\n",
              "      <td>535.250</td>\n",
              "      <td>527.199951</td>\n",
              "      <td>NaN</td>\n",
              "    </tr>\n",
              "    <tr>\n",
              "      <th>2012-09-02 00:00:00</th>\n",
              "      <td>1.346544e+09</td>\n",
              "      <td>1.82317</td>\n",
              "      <td>-7.915942</td>\n",
              "      <td>-0.576891</td>\n",
              "      <td>-0.816821</td>\n",
              "      <td>1.787119</td>\n",
              "      <td>183.75</td>\n",
              "      <td>151.00</td>\n",
              "      <td>169.25</td>\n",
              "      <td>191.50</td>\n",
              "      <td>...</td>\n",
              "      <td>520.700012</td>\n",
              "      <td>529.674988</td>\n",
              "      <td>531.775024</td>\n",
              "      <td>536.974976</td>\n",
              "      <td>543.525024</td>\n",
              "      <td>545.725037</td>\n",
              "      <td>545.974976</td>\n",
              "      <td>535.250</td>\n",
              "      <td>527.199951</td>\n",
              "      <td>NaN</td>\n",
              "    </tr>\n",
              "    <tr>\n",
              "      <th>2012-09-02 00:04:16</th>\n",
              "      <td>1.346544e+09</td>\n",
              "      <td>1.62604</td>\n",
              "      <td>-6.264870</td>\n",
              "      <td>-0.713122</td>\n",
              "      <td>-0.701040</td>\n",
              "      <td>1.614041</td>\n",
              "      <td>178.25</td>\n",
              "      <td>164.25</td>\n",
              "      <td>157.25</td>\n",
              "      <td>188.50</td>\n",
              "      <td>...</td>\n",
              "      <td>519.424988</td>\n",
              "      <td>527.650024</td>\n",
              "      <td>530.400024</td>\n",
              "      <td>537.750000</td>\n",
              "      <td>541.549988</td>\n",
              "      <td>545.075012</td>\n",
              "      <td>545.625000</td>\n",
              "      <td>539.625</td>\n",
              "      <td>527.824951</td>\n",
              "      <td>NaN</td>\n",
              "    </tr>\n",
              "    <tr>\n",
              "      <th>2012-09-02 00:04:16</th>\n",
              "      <td>1.346544e+09</td>\n",
              "      <td>1.20314</td>\n",
              "      <td>4.579703</td>\n",
              "      <td>-0.990125</td>\n",
              "      <td>0.140190</td>\n",
              "      <td>1.198547</td>\n",
              "      <td>178.25</td>\n",
              "      <td>164.25</td>\n",
              "      <td>157.25</td>\n",
              "      <td>188.50</td>\n",
              "      <td>...</td>\n",
              "      <td>519.424988</td>\n",
              "      <td>527.650024</td>\n",
              "      <td>530.400024</td>\n",
              "      <td>537.750000</td>\n",
              "      <td>541.549988</td>\n",
              "      <td>545.075012</td>\n",
              "      <td>545.625000</td>\n",
              "      <td>539.625</td>\n",
              "      <td>527.824951</td>\n",
              "      <td>NaN</td>\n",
              "    </tr>\n",
              "    <tr>\n",
              "      <th>2012-09-02 00:10:40</th>\n",
              "      <td>1.346545e+09</td>\n",
              "      <td>1.19303</td>\n",
              "      <td>8.210025</td>\n",
              "      <td>-0.864212</td>\n",
              "      <td>0.503128</td>\n",
              "      <td>1.172093</td>\n",
              "      <td>169.50</td>\n",
              "      <td>179.75</td>\n",
              "      <td>141.75</td>\n",
              "      <td>187.75</td>\n",
              "      <td>...</td>\n",
              "      <td>521.299988</td>\n",
              "      <td>524.474976</td>\n",
              "      <td>529.525024</td>\n",
              "      <td>535.775024</td>\n",
              "      <td>540.299988</td>\n",
              "      <td>544.125000</td>\n",
              "      <td>545.549988</td>\n",
              "      <td>542.000</td>\n",
              "      <td>530.699951</td>\n",
              "      <td>NaN</td>\n",
              "    </tr>\n",
              "  </tbody>\n",
              "</table>\n",
              "<p>5 rows × 1159 columns</p>\n",
              "</div>\n",
              "    <div class=\"colab-df-buttons\">\n",
              "\n",
              "  <div class=\"colab-df-container\">\n",
              "    <button class=\"colab-df-convert\" onclick=\"convertToInteractive('df-dc5aa391-372f-4eaf-906d-07efa0c86026')\"\n",
              "            title=\"Convert this dataframe to an interactive table.\"\n",
              "            style=\"display:none;\">\n",
              "\n",
              "  <svg xmlns=\"http://www.w3.org/2000/svg\" height=\"24px\" viewBox=\"0 -960 960 960\">\n",
              "    <path d=\"M120-120v-720h720v720H120Zm60-500h600v-160H180v160Zm220 220h160v-160H400v160Zm0 220h160v-160H400v160ZM180-400h160v-160H180v160Zm440 0h160v-160H620v160ZM180-180h160v-160H180v160Zm440 0h160v-160H620v160Z\"/>\n",
              "  </svg>\n",
              "    </button>\n",
              "\n",
              "  <style>\n",
              "    .colab-df-container {\n",
              "      display:flex;\n",
              "      gap: 12px;\n",
              "    }\n",
              "\n",
              "    .colab-df-convert {\n",
              "      background-color: #E8F0FE;\n",
              "      border: none;\n",
              "      border-radius: 50%;\n",
              "      cursor: pointer;\n",
              "      display: none;\n",
              "      fill: #1967D2;\n",
              "      height: 32px;\n",
              "      padding: 0 0 0 0;\n",
              "      width: 32px;\n",
              "    }\n",
              "\n",
              "    .colab-df-convert:hover {\n",
              "      background-color: #E2EBFA;\n",
              "      box-shadow: 0px 1px 2px rgba(60, 64, 67, 0.3), 0px 1px 3px 1px rgba(60, 64, 67, 0.15);\n",
              "      fill: #174EA6;\n",
              "    }\n",
              "\n",
              "    .colab-df-buttons div {\n",
              "      margin-bottom: 4px;\n",
              "    }\n",
              "\n",
              "    [theme=dark] .colab-df-convert {\n",
              "      background-color: #3B4455;\n",
              "      fill: #D2E3FC;\n",
              "    }\n",
              "\n",
              "    [theme=dark] .colab-df-convert:hover {\n",
              "      background-color: #434B5C;\n",
              "      box-shadow: 0px 1px 3px 1px rgba(0, 0, 0, 0.15);\n",
              "      filter: drop-shadow(0px 1px 2px rgba(0, 0, 0, 0.3));\n",
              "      fill: #FFFFFF;\n",
              "    }\n",
              "  </style>\n",
              "\n",
              "    <script>\n",
              "      const buttonEl =\n",
              "        document.querySelector('#df-dc5aa391-372f-4eaf-906d-07efa0c86026 button.colab-df-convert');\n",
              "      buttonEl.style.display =\n",
              "        google.colab.kernel.accessAllowed ? 'block' : 'none';\n",
              "\n",
              "      async function convertToInteractive(key) {\n",
              "        const element = document.querySelector('#df-dc5aa391-372f-4eaf-906d-07efa0c86026');\n",
              "        const dataTable =\n",
              "          await google.colab.kernel.invokeFunction('convertToInteractive',\n",
              "                                                    [key], {});\n",
              "        if (!dataTable) return;\n",
              "\n",
              "        const docLinkHtml = 'Like what you see? Visit the ' +\n",
              "          '<a target=\"_blank\" href=https://colab.research.google.com/notebooks/data_table.ipynb>data table notebook</a>'\n",
              "          + ' to learn more about interactive tables.';\n",
              "        element.innerHTML = '';\n",
              "        dataTable['output_type'] = 'display_data';\n",
              "        await google.colab.output.renderOutput(dataTable, element);\n",
              "        const docLink = document.createElement('div');\n",
              "        docLink.innerHTML = docLinkHtml;\n",
              "        element.appendChild(docLink);\n",
              "      }\n",
              "    </script>\n",
              "  </div>\n",
              "\n",
              "\n",
              "    <div id=\"df-be17edc7-10f5-4b70-a7b0-d93bba75f3d4\">\n",
              "      <button class=\"colab-df-quickchart\" onclick=\"quickchart('df-be17edc7-10f5-4b70-a7b0-d93bba75f3d4')\"\n",
              "                title=\"Suggest charts\"\n",
              "                style=\"display:none;\">\n",
              "\n",
              "<svg xmlns=\"http://www.w3.org/2000/svg\" height=\"24px\"viewBox=\"0 0 24 24\"\n",
              "     width=\"24px\">\n",
              "    <g>\n",
              "        <path d=\"M19 3H5c-1.1 0-2 .9-2 2v14c0 1.1.9 2 2 2h14c1.1 0 2-.9 2-2V5c0-1.1-.9-2-2-2zM9 17H7v-7h2v7zm4 0h-2V7h2v10zm4 0h-2v-4h2v4z\"/>\n",
              "    </g>\n",
              "</svg>\n",
              "      </button>\n",
              "\n",
              "<style>\n",
              "  .colab-df-quickchart {\n",
              "      --bg-color: #E8F0FE;\n",
              "      --fill-color: #1967D2;\n",
              "      --hover-bg-color: #E2EBFA;\n",
              "      --hover-fill-color: #174EA6;\n",
              "      --disabled-fill-color: #AAA;\n",
              "      --disabled-bg-color: #DDD;\n",
              "  }\n",
              "\n",
              "  [theme=dark] .colab-df-quickchart {\n",
              "      --bg-color: #3B4455;\n",
              "      --fill-color: #D2E3FC;\n",
              "      --hover-bg-color: #434B5C;\n",
              "      --hover-fill-color: #FFFFFF;\n",
              "      --disabled-bg-color: #3B4455;\n",
              "      --disabled-fill-color: #666;\n",
              "  }\n",
              "\n",
              "  .colab-df-quickchart {\n",
              "    background-color: var(--bg-color);\n",
              "    border: none;\n",
              "    border-radius: 50%;\n",
              "    cursor: pointer;\n",
              "    display: none;\n",
              "    fill: var(--fill-color);\n",
              "    height: 32px;\n",
              "    padding: 0;\n",
              "    width: 32px;\n",
              "  }\n",
              "\n",
              "  .colab-df-quickchart:hover {\n",
              "    background-color: var(--hover-bg-color);\n",
              "    box-shadow: 0 1px 2px rgba(60, 64, 67, 0.3), 0 1px 3px 1px rgba(60, 64, 67, 0.15);\n",
              "    fill: var(--button-hover-fill-color);\n",
              "  }\n",
              "\n",
              "  .colab-df-quickchart-complete:disabled,\n",
              "  .colab-df-quickchart-complete:disabled:hover {\n",
              "    background-color: var(--disabled-bg-color);\n",
              "    fill: var(--disabled-fill-color);\n",
              "    box-shadow: none;\n",
              "  }\n",
              "\n",
              "  .colab-df-spinner {\n",
              "    border: 2px solid var(--fill-color);\n",
              "    border-color: transparent;\n",
              "    border-bottom-color: var(--fill-color);\n",
              "    animation:\n",
              "      spin 1s steps(1) infinite;\n",
              "  }\n",
              "\n",
              "  @keyframes spin {\n",
              "    0% {\n",
              "      border-color: transparent;\n",
              "      border-bottom-color: var(--fill-color);\n",
              "      border-left-color: var(--fill-color);\n",
              "    }\n",
              "    20% {\n",
              "      border-color: transparent;\n",
              "      border-left-color: var(--fill-color);\n",
              "      border-top-color: var(--fill-color);\n",
              "    }\n",
              "    30% {\n",
              "      border-color: transparent;\n",
              "      border-left-color: var(--fill-color);\n",
              "      border-top-color: var(--fill-color);\n",
              "      border-right-color: var(--fill-color);\n",
              "    }\n",
              "    40% {\n",
              "      border-color: transparent;\n",
              "      border-right-color: var(--fill-color);\n",
              "      border-top-color: var(--fill-color);\n",
              "    }\n",
              "    60% {\n",
              "      border-color: transparent;\n",
              "      border-right-color: var(--fill-color);\n",
              "    }\n",
              "    80% {\n",
              "      border-color: transparent;\n",
              "      border-right-color: var(--fill-color);\n",
              "      border-bottom-color: var(--fill-color);\n",
              "    }\n",
              "    90% {\n",
              "      border-color: transparent;\n",
              "      border-bottom-color: var(--fill-color);\n",
              "    }\n",
              "  }\n",
              "</style>\n",
              "\n",
              "      <script>\n",
              "        async function quickchart(key) {\n",
              "          const quickchartButtonEl =\n",
              "            document.querySelector('#' + key + ' button');\n",
              "          quickchartButtonEl.disabled = true;  // To prevent multiple clicks.\n",
              "          quickchartButtonEl.classList.add('colab-df-spinner');\n",
              "          try {\n",
              "            const charts = await google.colab.kernel.invokeFunction(\n",
              "                'suggestCharts', [key], {});\n",
              "          } catch (error) {\n",
              "            console.error('Error during call to suggestCharts:', error);\n",
              "          }\n",
              "          quickchartButtonEl.classList.remove('colab-df-spinner');\n",
              "          quickchartButtonEl.classList.add('colab-df-quickchart-complete');\n",
              "        }\n",
              "        (() => {\n",
              "          let quickchartButtonEl =\n",
              "            document.querySelector('#df-be17edc7-10f5-4b70-a7b0-d93bba75f3d4 button');\n",
              "          quickchartButtonEl.style.display =\n",
              "            google.colab.kernel.accessAllowed ? 'block' : 'none';\n",
              "        })();\n",
              "      </script>\n",
              "    </div>\n",
              "\n",
              "    </div>\n",
              "  </div>\n"
            ],
            "application/vnd.google.colaboratory.intrinsic+json": {
              "type": "dataframe",
              "variable_name": "df"
            }
          },
          "metadata": {},
          "execution_count": 11
        }
      ]
    },
    {
      "cell_type": "code",
      "source": [
        "df['target'] = np.log10(df['eflux'] + 1) #log transformation to eflux column along with handling 0 by adding 1\n",
        "y = df['target'] # setting target variable"
      ],
      "metadata": {
        "id": "dTwsChss8uZc"
      },
      "execution_count": 12,
      "outputs": []
    },
    {
      "cell_type": "code",
      "source": [
        "positional_cols = [\n",
        "    'ED_R_OP77Q_intxt',\n",
        "    'ED_MLAT_OP77Q_intxt',\n",
        "    'ED_MLT_OP77Q_intxt_sin',\n",
        "    'ED_MLT_OP77Q_intxt_cos'\n",
        "]"
      ],
      "metadata": {
        "id": "jgKjl8XJ9pRv"
      },
      "execution_count": 13,
      "outputs": []
    },
    {
      "cell_type": "code",
      "source": [
        "driver_cols = [col for col in df.columns if '_t_' in col] #all the features with the time-history suffix '_t_'\n",
        "print(driver_cols)\n"
      ],
      "metadata": {
        "colab": {
          "base_uri": "https://localhost:8080/"
        },
        "id": "7p4Llf6n-8Q7",
        "outputId": "bbbee2c5-5c11-4950-ac68-c694fc54d934"
      },
      "execution_count": 14,
      "outputs": [
        {
          "output_type": "stream",
          "name": "stdout",
          "text": [
            "['AE_INDEX_t_0', 'AE_INDEX_t_1', 'AE_INDEX_t_2', 'AE_INDEX_t_3', 'AE_INDEX_t_4', 'AE_INDEX_t_5', 'AE_INDEX_t_6', 'AE_INDEX_t_7', 'AE_INDEX_t_8', 'AE_INDEX_t_9', 'AE_INDEX_t_10', 'AE_INDEX_t_11', 'AE_INDEX_t_12', 'AE_INDEX_t_13', 'AE_INDEX_t_14', 'AE_INDEX_t_15', 'AE_INDEX_t_16', 'AE_INDEX_t_17', 'AE_INDEX_t_18', 'AE_INDEX_t_19', 'AE_INDEX_t_20', 'AE_INDEX_t_21', 'AE_INDEX_t_22', 'AE_INDEX_t_23', 'AE_INDEX_t_24', 'AE_INDEX_t_25', 'AE_INDEX_t_26', 'AE_INDEX_t_27', 'AE_INDEX_t_28', 'AE_INDEX_t_29', 'AE_INDEX_t_30', 'AE_INDEX_t_31', 'AE_INDEX_t_32', 'AE_INDEX_t_33', 'AE_INDEX_t_34', 'AE_INDEX_t_35', 'AE_INDEX_t_36', 'AE_INDEX_t_37', 'AE_INDEX_t_38', 'AE_INDEX_t_39', 'AE_INDEX_t_40', 'AE_INDEX_t_41', 'AE_INDEX_t_42', 'AE_INDEX_t_43', 'AE_INDEX_t_44', 'AE_INDEX_t_45', 'AE_INDEX_t_46', 'AE_INDEX_t_47', 'AE_INDEX_t_48', 'AE_INDEX_t_49', 'AE_INDEX_t_50', 'AE_INDEX_t_51', 'AE_INDEX_t_52', 'AE_INDEX_t_53', 'AE_INDEX_t_54', 'AE_INDEX_t_55', 'AE_INDEX_t_56', 'AE_INDEX_t_57', 'AE_INDEX_t_58', 'AE_INDEX_t_59', 'AE_INDEX_t_60', 'AE_INDEX_t_61', 'AE_INDEX_t_62', 'AE_INDEX_t_63', 'AE_INDEX_t_64', 'AE_INDEX_t_65', 'AE_INDEX_t_66', 'AE_INDEX_t_67', 'AE_INDEX_t_68', 'AE_INDEX_t_69', 'AE_INDEX_t_70', 'AE_INDEX_t_71', 'AE_INDEX_t_72', 'AE_INDEX_t_73', 'AE_INDEX_t_74', 'AE_INDEX_t_75', 'AE_INDEX_t_76', 'AE_INDEX_t_77', 'AE_INDEX_t_78', 'AE_INDEX_t_79', 'AE_INDEX_t_80', 'AE_INDEX_t_81', 'AE_INDEX_t_82', 'AE_INDEX_t_83', 'AE_INDEX_t_84', 'AE_INDEX_t_85', 'AE_INDEX_t_86', 'AE_INDEX_t_87', 'AE_INDEX_t_88', 'AE_INDEX_t_89', 'AE_INDEX_t_90', 'AE_INDEX_t_91', 'AE_INDEX_t_92', 'AE_INDEX_t_93', 'AE_INDEX_t_94', 'AE_INDEX_t_95', 'AE_INDEX_t_96', 'AE_INDEX_t_97', 'AE_INDEX_t_98', 'AE_INDEX_t_99', 'AE_INDEX_t_100', 'AE_INDEX_t_101', 'AE_INDEX_t_102', 'AE_INDEX_t_103', 'AE_INDEX_t_104', 'AE_INDEX_t_105', 'AE_INDEX_t_106', 'AE_INDEX_t_107', 'AE_INDEX_t_108', 'AE_INDEX_t_109', 'AE_INDEX_t_110', 'AE_INDEX_t_111', 'AE_INDEX_t_112', 'AE_INDEX_t_113', 'AE_INDEX_t_114', 'AE_INDEX_t_115', 'AE_INDEX_t_116', 'AE_INDEX_t_117', 'AE_INDEX_t_118', 'AE_INDEX_t_119', 'AE_INDEX_t_120', 'AE_INDEX_t_121', 'AE_INDEX_t_122', 'AE_INDEX_t_123', 'AE_INDEX_t_124', 'AE_INDEX_t_125', 'AE_INDEX_t_126', 'AE_INDEX_t_127', 'AE_INDEX_t_128', 'AE_INDEX_t_129', 'AE_INDEX_t_130', 'AE_INDEX_t_131', 'AE_INDEX_t_132', 'AE_INDEX_t_133', 'AE_INDEX_t_134', 'AE_INDEX_t_135', 'AE_INDEX_t_136', 'AE_INDEX_t_137', 'AE_INDEX_t_138', 'AE_INDEX_t_139', 'AE_INDEX_t_140', 'AE_INDEX_t_141', 'AE_INDEX_t_142', 'AE_INDEX_t_143', 'AE_INDEX_t_144', 'AE_INDEX_t_145', 'AE_INDEX_t_146', 'AE_INDEX_t_147', 'AE_INDEX_t_148', 'AE_INDEX_t_149', 'AE_INDEX_t_150', 'AE_INDEX_t_151', 'AE_INDEX_t_152', 'AE_INDEX_t_153', 'AE_INDEX_t_154', 'AE_INDEX_t_155', 'AE_INDEX_t_156', 'AE_INDEX_t_157', 'AE_INDEX_t_158', 'AE_INDEX_t_159', 'AE_INDEX_t_160', 'AE_INDEX_t_161', 'AE_INDEX_t_162', 'AE_INDEX_t_163', 'AE_INDEX_t_164', 'AE_INDEX_t_165', 'AE_INDEX_t_166', 'AE_INDEX_t_167', 'AE_INDEX_t_168', 'AE_INDEX_t_169', 'AE_INDEX_t_170', 'AE_INDEX_t_171', 'AE_INDEX_t_172', 'AE_INDEX_t_173', 'AE_INDEX_t_174', 'AE_INDEX_t_175', 'AE_INDEX_t_176', 'AE_INDEX_t_177', 'AE_INDEX_t_178', 'AE_INDEX_t_179', 'AE_INDEX_t_180', 'AE_INDEX_t_181', 'AE_INDEX_t_182', 'AE_INDEX_t_183', 'AE_INDEX_t_184', 'AE_INDEX_t_185', 'AE_INDEX_t_186', 'AE_INDEX_t_187', 'AE_INDEX_t_188', 'AE_INDEX_t_189', 'AE_INDEX_t_190', 'AE_INDEX_t_191', 'AE_INDEX_t_192', 'AE_INDEX_t_193', 'AE_INDEX_t_194', 'AE_INDEX_t_195', 'AE_INDEX_t_196', 'AE_INDEX_t_197', 'AE_INDEX_t_198', 'AE_INDEX_t_199', 'AE_INDEX_t_200', 'AE_INDEX_t_201', 'AE_INDEX_t_202', 'AE_INDEX_t_203', 'AE_INDEX_t_204', 'AE_INDEX_t_205', 'AE_INDEX_t_206', 'AE_INDEX_t_207', 'AE_INDEX_t_208', 'AE_INDEX_t_209', 'AE_INDEX_t_210', 'AE_INDEX_t_211', 'AE_INDEX_t_212', 'AE_INDEX_t_213', 'AE_INDEX_t_214', 'AE_INDEX_t_215', 'AE_INDEX_t_216', 'AE_INDEX_t_217', 'AE_INDEX_t_218', 'AE_INDEX_t_219', 'AE_INDEX_t_220', 'AE_INDEX_t_221', 'AE_INDEX_t_222', 'AE_INDEX_t_223', 'AE_INDEX_t_224', 'AE_INDEX_t_225', 'AE_INDEX_t_226', 'AE_INDEX_t_227', 'AE_INDEX_t_228', 'AE_INDEX_t_229', 'AE_INDEX_t_230', 'AE_INDEX_t_231', 'AE_INDEX_t_232', 'AE_INDEX_t_233', 'AE_INDEX_t_234', 'AE_INDEX_t_235', 'AE_INDEX_t_236', 'AE_INDEX_t_237', 'AE_INDEX_t_238', 'AE_INDEX_t_239', 'AE_INDEX_t_240', 'AE_INDEX_t_241', 'AE_INDEX_t_242', 'AE_INDEX_t_243', 'AE_INDEX_t_244', 'AE_INDEX_t_245', 'AE_INDEX_t_246', 'AE_INDEX_t_247', 'AE_INDEX_t_248', 'AE_INDEX_t_249', 'AE_INDEX_t_250', 'AE_INDEX_t_251', 'AE_INDEX_t_252', 'AE_INDEX_t_253', 'AE_INDEX_t_254', 'AE_INDEX_t_255', 'AE_INDEX_t_256', 'AE_INDEX_t_257', 'AE_INDEX_t_258', 'AE_INDEX_t_259', 'AE_INDEX_t_260', 'AE_INDEX_t_261', 'AE_INDEX_t_262', 'AE_INDEX_t_263', 'AE_INDEX_t_264', 'AE_INDEX_t_265', 'AE_INDEX_t_266', 'AE_INDEX_t_267', 'AE_INDEX_t_268', 'AE_INDEX_t_269', 'AE_INDEX_t_270', 'AE_INDEX_t_271', 'AE_INDEX_t_272', 'AE_INDEX_t_273', 'AE_INDEX_t_274', 'AE_INDEX_t_275', 'AE_INDEX_t_276', 'AE_INDEX_t_277', 'AE_INDEX_t_278', 'AE_INDEX_t_279', 'AE_INDEX_t_280', 'AE_INDEX_t_281', 'AE_INDEX_t_282', 'AE_INDEX_t_283', 'AE_INDEX_t_284', 'AE_INDEX_t_285', 'AE_INDEX_t_286', 'AE_INDEX_t_287', 'SYM_H_t_0', 'SYM_H_t_1', 'SYM_H_t_2', 'SYM_H_t_3', 'SYM_H_t_4', 'SYM_H_t_5', 'SYM_H_t_6', 'SYM_H_t_7', 'SYM_H_t_8', 'SYM_H_t_9', 'SYM_H_t_10', 'SYM_H_t_11', 'SYM_H_t_12', 'SYM_H_t_13', 'SYM_H_t_14', 'SYM_H_t_15', 'SYM_H_t_16', 'SYM_H_t_17', 'SYM_H_t_18', 'SYM_H_t_19', 'SYM_H_t_20', 'SYM_H_t_21', 'SYM_H_t_22', 'SYM_H_t_23', 'SYM_H_t_24', 'SYM_H_t_25', 'SYM_H_t_26', 'SYM_H_t_27', 'SYM_H_t_28', 'SYM_H_t_29', 'SYM_H_t_30', 'SYM_H_t_31', 'SYM_H_t_32', 'SYM_H_t_33', 'SYM_H_t_34', 'SYM_H_t_35', 'SYM_H_t_36', 'SYM_H_t_37', 'SYM_H_t_38', 'SYM_H_t_39', 'SYM_H_t_40', 'SYM_H_t_41', 'SYM_H_t_42', 'SYM_H_t_43', 'SYM_H_t_44', 'SYM_H_t_45', 'SYM_H_t_46', 'SYM_H_t_47', 'SYM_H_t_48', 'SYM_H_t_49', 'SYM_H_t_50', 'SYM_H_t_51', 'SYM_H_t_52', 'SYM_H_t_53', 'SYM_H_t_54', 'SYM_H_t_55', 'SYM_H_t_56', 'SYM_H_t_57', 'SYM_H_t_58', 'SYM_H_t_59', 'SYM_H_t_60', 'SYM_H_t_61', 'SYM_H_t_62', 'SYM_H_t_63', 'SYM_H_t_64', 'SYM_H_t_65', 'SYM_H_t_66', 'SYM_H_t_67', 'SYM_H_t_68', 'SYM_H_t_69', 'SYM_H_t_70', 'SYM_H_t_71', 'SYM_H_t_72', 'SYM_H_t_73', 'SYM_H_t_74', 'SYM_H_t_75', 'SYM_H_t_76', 'SYM_H_t_77', 'SYM_H_t_78', 'SYM_H_t_79', 'SYM_H_t_80', 'SYM_H_t_81', 'SYM_H_t_82', 'SYM_H_t_83', 'SYM_H_t_84', 'SYM_H_t_85', 'SYM_H_t_86', 'SYM_H_t_87', 'SYM_H_t_88', 'SYM_H_t_89', 'SYM_H_t_90', 'SYM_H_t_91', 'SYM_H_t_92', 'SYM_H_t_93', 'SYM_H_t_94', 'SYM_H_t_95', 'SYM_H_t_96', 'SYM_H_t_97', 'SYM_H_t_98', 'SYM_H_t_99', 'SYM_H_t_100', 'SYM_H_t_101', 'SYM_H_t_102', 'SYM_H_t_103', 'SYM_H_t_104', 'SYM_H_t_105', 'SYM_H_t_106', 'SYM_H_t_107', 'SYM_H_t_108', 'SYM_H_t_109', 'SYM_H_t_110', 'SYM_H_t_111', 'SYM_H_t_112', 'SYM_H_t_113', 'SYM_H_t_114', 'SYM_H_t_115', 'SYM_H_t_116', 'SYM_H_t_117', 'SYM_H_t_118', 'SYM_H_t_119', 'SYM_H_t_120', 'SYM_H_t_121', 'SYM_H_t_122', 'SYM_H_t_123', 'SYM_H_t_124', 'SYM_H_t_125', 'SYM_H_t_126', 'SYM_H_t_127', 'SYM_H_t_128', 'SYM_H_t_129', 'SYM_H_t_130', 'SYM_H_t_131', 'SYM_H_t_132', 'SYM_H_t_133', 'SYM_H_t_134', 'SYM_H_t_135', 'SYM_H_t_136', 'SYM_H_t_137', 'SYM_H_t_138', 'SYM_H_t_139', 'SYM_H_t_140', 'SYM_H_t_141', 'SYM_H_t_142', 'SYM_H_t_143', 'SYM_H_t_144', 'SYM_H_t_145', 'SYM_H_t_146', 'SYM_H_t_147', 'SYM_H_t_148', 'SYM_H_t_149', 'SYM_H_t_150', 'SYM_H_t_151', 'SYM_H_t_152', 'SYM_H_t_153', 'SYM_H_t_154', 'SYM_H_t_155', 'SYM_H_t_156', 'SYM_H_t_157', 'SYM_H_t_158', 'SYM_H_t_159', 'SYM_H_t_160', 'SYM_H_t_161', 'SYM_H_t_162', 'SYM_H_t_163', 'SYM_H_t_164', 'SYM_H_t_165', 'SYM_H_t_166', 'SYM_H_t_167', 'SYM_H_t_168', 'SYM_H_t_169', 'SYM_H_t_170', 'SYM_H_t_171', 'SYM_H_t_172', 'SYM_H_t_173', 'SYM_H_t_174', 'SYM_H_t_175', 'SYM_H_t_176', 'SYM_H_t_177', 'SYM_H_t_178', 'SYM_H_t_179', 'SYM_H_t_180', 'SYM_H_t_181', 'SYM_H_t_182', 'SYM_H_t_183', 'SYM_H_t_184', 'SYM_H_t_185', 'SYM_H_t_186', 'SYM_H_t_187', 'SYM_H_t_188', 'SYM_H_t_189', 'SYM_H_t_190', 'SYM_H_t_191', 'SYM_H_t_192', 'SYM_H_t_193', 'SYM_H_t_194', 'SYM_H_t_195', 'SYM_H_t_196', 'SYM_H_t_197', 'SYM_H_t_198', 'SYM_H_t_199', 'SYM_H_t_200', 'SYM_H_t_201', 'SYM_H_t_202', 'SYM_H_t_203', 'SYM_H_t_204', 'SYM_H_t_205', 'SYM_H_t_206', 'SYM_H_t_207', 'SYM_H_t_208', 'SYM_H_t_209', 'SYM_H_t_210', 'SYM_H_t_211', 'SYM_H_t_212', 'SYM_H_t_213', 'SYM_H_t_214', 'SYM_H_t_215', 'SYM_H_t_216', 'SYM_H_t_217', 'SYM_H_t_218', 'SYM_H_t_219', 'SYM_H_t_220', 'SYM_H_t_221', 'SYM_H_t_222', 'SYM_H_t_223', 'SYM_H_t_224', 'SYM_H_t_225', 'SYM_H_t_226', 'SYM_H_t_227', 'SYM_H_t_228', 'SYM_H_t_229', 'SYM_H_t_230', 'SYM_H_t_231', 'SYM_H_t_232', 'SYM_H_t_233', 'SYM_H_t_234', 'SYM_H_t_235', 'SYM_H_t_236', 'SYM_H_t_237', 'SYM_H_t_238', 'SYM_H_t_239', 'SYM_H_t_240', 'SYM_H_t_241', 'SYM_H_t_242', 'SYM_H_t_243', 'SYM_H_t_244', 'SYM_H_t_245', 'SYM_H_t_246', 'SYM_H_t_247', 'SYM_H_t_248', 'SYM_H_t_249', 'SYM_H_t_250', 'SYM_H_t_251', 'SYM_H_t_252', 'SYM_H_t_253', 'SYM_H_t_254', 'SYM_H_t_255', 'SYM_H_t_256', 'SYM_H_t_257', 'SYM_H_t_258', 'SYM_H_t_259', 'SYM_H_t_260', 'SYM_H_t_261', 'SYM_H_t_262', 'SYM_H_t_263', 'SYM_H_t_264', 'SYM_H_t_265', 'SYM_H_t_266', 'SYM_H_t_267', 'SYM_H_t_268', 'SYM_H_t_269', 'SYM_H_t_270', 'SYM_H_t_271', 'SYM_H_t_272', 'SYM_H_t_273', 'SYM_H_t_274', 'SYM_H_t_275', 'SYM_H_t_276', 'SYM_H_t_277', 'SYM_H_t_278', 'SYM_H_t_279', 'SYM_H_t_280', 'SYM_H_t_281', 'SYM_H_t_282', 'SYM_H_t_283', 'SYM_H_t_284', 'SYM_H_t_285', 'SYM_H_t_286', 'SYM_H_t_287', 'Pressure_t_0', 'Pressure_t_1', 'Pressure_t_2', 'Pressure_t_3', 'Pressure_t_4', 'Pressure_t_5', 'Pressure_t_6', 'Pressure_t_7', 'Pressure_t_8', 'Pressure_t_9', 'Pressure_t_10', 'Pressure_t_11', 'Pressure_t_12', 'Pressure_t_13', 'Pressure_t_14', 'Pressure_t_15', 'Pressure_t_16', 'Pressure_t_17', 'Pressure_t_18', 'Pressure_t_19', 'Pressure_t_20', 'Pressure_t_21', 'Pressure_t_22', 'Pressure_t_23', 'Pressure_t_24', 'Pressure_t_25', 'Pressure_t_26', 'Pressure_t_27', 'Pressure_t_28', 'Pressure_t_29', 'Pressure_t_30', 'Pressure_t_31', 'Pressure_t_32', 'Pressure_t_33', 'Pressure_t_34', 'Pressure_t_35', 'Pressure_t_36', 'Pressure_t_37', 'Pressure_t_38', 'Pressure_t_39', 'Pressure_t_40', 'Pressure_t_41', 'Pressure_t_42', 'Pressure_t_43', 'Pressure_t_44', 'Pressure_t_45', 'Pressure_t_46', 'Pressure_t_47', 'Pressure_t_48', 'Pressure_t_49', 'Pressure_t_50', 'Pressure_t_51', 'Pressure_t_52', 'Pressure_t_53', 'Pressure_t_54', 'Pressure_t_55', 'Pressure_t_56', 'Pressure_t_57', 'Pressure_t_58', 'Pressure_t_59', 'Pressure_t_60', 'Pressure_t_61', 'Pressure_t_62', 'Pressure_t_63', 'Pressure_t_64', 'Pressure_t_65', 'Pressure_t_66', 'Pressure_t_67', 'Pressure_t_68', 'Pressure_t_69', 'Pressure_t_70', 'Pressure_t_71', 'Pressure_t_72', 'Pressure_t_73', 'Pressure_t_74', 'Pressure_t_75', 'Pressure_t_76', 'Pressure_t_77', 'Pressure_t_78', 'Pressure_t_79', 'Pressure_t_80', 'Pressure_t_81', 'Pressure_t_82', 'Pressure_t_83', 'Pressure_t_84', 'Pressure_t_85', 'Pressure_t_86', 'Pressure_t_87', 'Pressure_t_88', 'Pressure_t_89', 'Pressure_t_90', 'Pressure_t_91', 'Pressure_t_92', 'Pressure_t_93', 'Pressure_t_94', 'Pressure_t_95', 'Pressure_t_96', 'Pressure_t_97', 'Pressure_t_98', 'Pressure_t_99', 'Pressure_t_100', 'Pressure_t_101', 'Pressure_t_102', 'Pressure_t_103', 'Pressure_t_104', 'Pressure_t_105', 'Pressure_t_106', 'Pressure_t_107', 'Pressure_t_108', 'Pressure_t_109', 'Pressure_t_110', 'Pressure_t_111', 'Pressure_t_112', 'Pressure_t_113', 'Pressure_t_114', 'Pressure_t_115', 'Pressure_t_116', 'Pressure_t_117', 'Pressure_t_118', 'Pressure_t_119', 'Pressure_t_120', 'Pressure_t_121', 'Pressure_t_122', 'Pressure_t_123', 'Pressure_t_124', 'Pressure_t_125', 'Pressure_t_126', 'Pressure_t_127', 'Pressure_t_128', 'Pressure_t_129', 'Pressure_t_130', 'Pressure_t_131', 'Pressure_t_132', 'Pressure_t_133', 'Pressure_t_134', 'Pressure_t_135', 'Pressure_t_136', 'Pressure_t_137', 'Pressure_t_138', 'Pressure_t_139', 'Pressure_t_140', 'Pressure_t_141', 'Pressure_t_142', 'Pressure_t_143', 'Pressure_t_144', 'Pressure_t_145', 'Pressure_t_146', 'Pressure_t_147', 'Pressure_t_148', 'Pressure_t_149', 'Pressure_t_150', 'Pressure_t_151', 'Pressure_t_152', 'Pressure_t_153', 'Pressure_t_154', 'Pressure_t_155', 'Pressure_t_156', 'Pressure_t_157', 'Pressure_t_158', 'Pressure_t_159', 'Pressure_t_160', 'Pressure_t_161', 'Pressure_t_162', 'Pressure_t_163', 'Pressure_t_164', 'Pressure_t_165', 'Pressure_t_166', 'Pressure_t_167', 'Pressure_t_168', 'Pressure_t_169', 'Pressure_t_170', 'Pressure_t_171', 'Pressure_t_172', 'Pressure_t_173', 'Pressure_t_174', 'Pressure_t_175', 'Pressure_t_176', 'Pressure_t_177', 'Pressure_t_178', 'Pressure_t_179', 'Pressure_t_180', 'Pressure_t_181', 'Pressure_t_182', 'Pressure_t_183', 'Pressure_t_184', 'Pressure_t_185', 'Pressure_t_186', 'Pressure_t_187', 'Pressure_t_188', 'Pressure_t_189', 'Pressure_t_190', 'Pressure_t_191', 'Pressure_t_192', 'Pressure_t_193', 'Pressure_t_194', 'Pressure_t_195', 'Pressure_t_196', 'Pressure_t_197', 'Pressure_t_198', 'Pressure_t_199', 'Pressure_t_200', 'Pressure_t_201', 'Pressure_t_202', 'Pressure_t_203', 'Pressure_t_204', 'Pressure_t_205', 'Pressure_t_206', 'Pressure_t_207', 'Pressure_t_208', 'Pressure_t_209', 'Pressure_t_210', 'Pressure_t_211', 'Pressure_t_212', 'Pressure_t_213', 'Pressure_t_214', 'Pressure_t_215', 'Pressure_t_216', 'Pressure_t_217', 'Pressure_t_218', 'Pressure_t_219', 'Pressure_t_220', 'Pressure_t_221', 'Pressure_t_222', 'Pressure_t_223', 'Pressure_t_224', 'Pressure_t_225', 'Pressure_t_226', 'Pressure_t_227', 'Pressure_t_228', 'Pressure_t_229', 'Pressure_t_230', 'Pressure_t_231', 'Pressure_t_232', 'Pressure_t_233', 'Pressure_t_234', 'Pressure_t_235', 'Pressure_t_236', 'Pressure_t_237', 'Pressure_t_238', 'Pressure_t_239', 'Pressure_t_240', 'Pressure_t_241', 'Pressure_t_242', 'Pressure_t_243', 'Pressure_t_244', 'Pressure_t_245', 'Pressure_t_246', 'Pressure_t_247', 'Pressure_t_248', 'Pressure_t_249', 'Pressure_t_250', 'Pressure_t_251', 'Pressure_t_252', 'Pressure_t_253', 'Pressure_t_254', 'Pressure_t_255', 'Pressure_t_256', 'Pressure_t_257', 'Pressure_t_258', 'Pressure_t_259', 'Pressure_t_260', 'Pressure_t_261', 'Pressure_t_262', 'Pressure_t_263', 'Pressure_t_264', 'Pressure_t_265', 'Pressure_t_266', 'Pressure_t_267', 'Pressure_t_268', 'Pressure_t_269', 'Pressure_t_270', 'Pressure_t_271', 'Pressure_t_272', 'Pressure_t_273', 'Pressure_t_274', 'Pressure_t_275', 'Pressure_t_276', 'Pressure_t_277', 'Pressure_t_278', 'Pressure_t_279', 'Pressure_t_280', 'Pressure_t_281', 'Pressure_t_282', 'Pressure_t_283', 'Pressure_t_284', 'Pressure_t_285', 'Pressure_t_286', 'Pressure_t_287', 'flow_speed_t_0', 'flow_speed_t_1', 'flow_speed_t_2', 'flow_speed_t_3', 'flow_speed_t_4', 'flow_speed_t_5', 'flow_speed_t_6', 'flow_speed_t_7', 'flow_speed_t_8', 'flow_speed_t_9', 'flow_speed_t_10', 'flow_speed_t_11', 'flow_speed_t_12', 'flow_speed_t_13', 'flow_speed_t_14', 'flow_speed_t_15', 'flow_speed_t_16', 'flow_speed_t_17', 'flow_speed_t_18', 'flow_speed_t_19', 'flow_speed_t_20', 'flow_speed_t_21', 'flow_speed_t_22', 'flow_speed_t_23', 'flow_speed_t_24', 'flow_speed_t_25', 'flow_speed_t_26', 'flow_speed_t_27', 'flow_speed_t_28', 'flow_speed_t_29', 'flow_speed_t_30', 'flow_speed_t_31', 'flow_speed_t_32', 'flow_speed_t_33', 'flow_speed_t_34', 'flow_speed_t_35', 'flow_speed_t_36', 'flow_speed_t_37', 'flow_speed_t_38', 'flow_speed_t_39', 'flow_speed_t_40', 'flow_speed_t_41', 'flow_speed_t_42', 'flow_speed_t_43', 'flow_speed_t_44', 'flow_speed_t_45', 'flow_speed_t_46', 'flow_speed_t_47', 'flow_speed_t_48', 'flow_speed_t_49', 'flow_speed_t_50', 'flow_speed_t_51', 'flow_speed_t_52', 'flow_speed_t_53', 'flow_speed_t_54', 'flow_speed_t_55', 'flow_speed_t_56', 'flow_speed_t_57', 'flow_speed_t_58', 'flow_speed_t_59', 'flow_speed_t_60', 'flow_speed_t_61', 'flow_speed_t_62', 'flow_speed_t_63', 'flow_speed_t_64', 'flow_speed_t_65', 'flow_speed_t_66', 'flow_speed_t_67', 'flow_speed_t_68', 'flow_speed_t_69', 'flow_speed_t_70', 'flow_speed_t_71', 'flow_speed_t_72', 'flow_speed_t_73', 'flow_speed_t_74', 'flow_speed_t_75', 'flow_speed_t_76', 'flow_speed_t_77', 'flow_speed_t_78', 'flow_speed_t_79', 'flow_speed_t_80', 'flow_speed_t_81', 'flow_speed_t_82', 'flow_speed_t_83', 'flow_speed_t_84', 'flow_speed_t_85', 'flow_speed_t_86', 'flow_speed_t_87', 'flow_speed_t_88', 'flow_speed_t_89', 'flow_speed_t_90', 'flow_speed_t_91', 'flow_speed_t_92', 'flow_speed_t_93', 'flow_speed_t_94', 'flow_speed_t_95', 'flow_speed_t_96', 'flow_speed_t_97', 'flow_speed_t_98', 'flow_speed_t_99', 'flow_speed_t_100', 'flow_speed_t_101', 'flow_speed_t_102', 'flow_speed_t_103', 'flow_speed_t_104', 'flow_speed_t_105', 'flow_speed_t_106', 'flow_speed_t_107', 'flow_speed_t_108', 'flow_speed_t_109', 'flow_speed_t_110', 'flow_speed_t_111', 'flow_speed_t_112', 'flow_speed_t_113', 'flow_speed_t_114', 'flow_speed_t_115', 'flow_speed_t_116', 'flow_speed_t_117', 'flow_speed_t_118', 'flow_speed_t_119', 'flow_speed_t_120', 'flow_speed_t_121', 'flow_speed_t_122', 'flow_speed_t_123', 'flow_speed_t_124', 'flow_speed_t_125', 'flow_speed_t_126', 'flow_speed_t_127', 'flow_speed_t_128', 'flow_speed_t_129', 'flow_speed_t_130', 'flow_speed_t_131', 'flow_speed_t_132', 'flow_speed_t_133', 'flow_speed_t_134', 'flow_speed_t_135', 'flow_speed_t_136', 'flow_speed_t_137', 'flow_speed_t_138', 'flow_speed_t_139', 'flow_speed_t_140', 'flow_speed_t_141', 'flow_speed_t_142', 'flow_speed_t_143', 'flow_speed_t_144', 'flow_speed_t_145', 'flow_speed_t_146', 'flow_speed_t_147', 'flow_speed_t_148', 'flow_speed_t_149', 'flow_speed_t_150', 'flow_speed_t_151', 'flow_speed_t_152', 'flow_speed_t_153', 'flow_speed_t_154', 'flow_speed_t_155', 'flow_speed_t_156', 'flow_speed_t_157', 'flow_speed_t_158', 'flow_speed_t_159', 'flow_speed_t_160', 'flow_speed_t_161', 'flow_speed_t_162', 'flow_speed_t_163', 'flow_speed_t_164', 'flow_speed_t_165', 'flow_speed_t_166', 'flow_speed_t_167', 'flow_speed_t_168', 'flow_speed_t_169', 'flow_speed_t_170', 'flow_speed_t_171', 'flow_speed_t_172', 'flow_speed_t_173', 'flow_speed_t_174', 'flow_speed_t_175', 'flow_speed_t_176', 'flow_speed_t_177', 'flow_speed_t_178', 'flow_speed_t_179', 'flow_speed_t_180', 'flow_speed_t_181', 'flow_speed_t_182', 'flow_speed_t_183', 'flow_speed_t_184', 'flow_speed_t_185', 'flow_speed_t_186', 'flow_speed_t_187', 'flow_speed_t_188', 'flow_speed_t_189', 'flow_speed_t_190', 'flow_speed_t_191', 'flow_speed_t_192', 'flow_speed_t_193', 'flow_speed_t_194', 'flow_speed_t_195', 'flow_speed_t_196', 'flow_speed_t_197', 'flow_speed_t_198', 'flow_speed_t_199', 'flow_speed_t_200', 'flow_speed_t_201', 'flow_speed_t_202', 'flow_speed_t_203', 'flow_speed_t_204', 'flow_speed_t_205', 'flow_speed_t_206', 'flow_speed_t_207', 'flow_speed_t_208', 'flow_speed_t_209', 'flow_speed_t_210', 'flow_speed_t_211', 'flow_speed_t_212', 'flow_speed_t_213', 'flow_speed_t_214', 'flow_speed_t_215', 'flow_speed_t_216', 'flow_speed_t_217', 'flow_speed_t_218', 'flow_speed_t_219', 'flow_speed_t_220', 'flow_speed_t_221', 'flow_speed_t_222', 'flow_speed_t_223', 'flow_speed_t_224', 'flow_speed_t_225', 'flow_speed_t_226', 'flow_speed_t_227', 'flow_speed_t_228', 'flow_speed_t_229', 'flow_speed_t_230', 'flow_speed_t_231', 'flow_speed_t_232', 'flow_speed_t_233', 'flow_speed_t_234', 'flow_speed_t_235', 'flow_speed_t_236', 'flow_speed_t_237', 'flow_speed_t_238', 'flow_speed_t_239', 'flow_speed_t_240', 'flow_speed_t_241', 'flow_speed_t_242', 'flow_speed_t_243', 'flow_speed_t_244', 'flow_speed_t_245', 'flow_speed_t_246', 'flow_speed_t_247', 'flow_speed_t_248', 'flow_speed_t_249', 'flow_speed_t_250', 'flow_speed_t_251', 'flow_speed_t_252', 'flow_speed_t_253', 'flow_speed_t_254', 'flow_speed_t_255', 'flow_speed_t_256', 'flow_speed_t_257', 'flow_speed_t_258', 'flow_speed_t_259', 'flow_speed_t_260', 'flow_speed_t_261', 'flow_speed_t_262', 'flow_speed_t_263', 'flow_speed_t_264', 'flow_speed_t_265', 'flow_speed_t_266', 'flow_speed_t_267', 'flow_speed_t_268', 'flow_speed_t_269', 'flow_speed_t_270', 'flow_speed_t_271', 'flow_speed_t_272', 'flow_speed_t_273', 'flow_speed_t_274', 'flow_speed_t_275', 'flow_speed_t_276', 'flow_speed_t_277', 'flow_speed_t_278', 'flow_speed_t_279', 'flow_speed_t_280', 'flow_speed_t_281', 'flow_speed_t_282', 'flow_speed_t_283', 'flow_speed_t_284', 'flow_speed_t_285', 'flow_speed_t_286', 'flow_speed_t_287']\n"
          ]
        }
      ]
    },
    {
      "cell_type": "code",
      "source": [
        "feature_cols = positional_cols + driver_cols\n",
        "X = df[feature_cols] #input features"
      ],
      "metadata": {
        "id": "k6KWR5FC_CLm"
      },
      "execution_count": 15,
      "outputs": []
    },
    {
      "cell_type": "code",
      "source": [
        "#verfication\n",
        "expected_columns = len(positional_cols) + len(driver_cols)\n",
        "\n",
        "actual_columns = X.shape[1]\n",
        "\n",
        "if actual_columns == expected_columns:\n",
        "    print(\"All colunns added\")\n",
        "else:\n",
        "    print(\"mismatch\")"
      ],
      "metadata": {
        "colab": {
          "base_uri": "https://localhost:8080/"
        },
        "id": "tFtobrJU_UYI",
        "outputId": "75e021d1-fa4a-45cb-f2a1-c6d39cf1033d"
      },
      "execution_count": 16,
      "outputs": [
        {
          "output_type": "stream",
          "name": "stdout",
          "text": [
            "All colunns added\n"
          ]
        }
      ]
    },
    {
      "cell_type": "code",
      "source": [
        "full_data = pd.concat([X, y], axis=1)# to ensure we drop the same rows from both\n",
        "print(full_data.isna().sum())\n"
      ],
      "metadata": {
        "colab": {
          "base_uri": "https://localhost:8080/"
        },
        "id": "ofBpzQeO_zZs",
        "outputId": "a0ba96d6-1118-44ec-f6a8-ca5214d80ec7"
      },
      "execution_count": 17,
      "outputs": [
        {
          "output_type": "stream",
          "name": "stdout",
          "text": [
            "ED_R_OP77Q_intxt               0\n",
            "ED_MLAT_OP77Q_intxt            0\n",
            "ED_MLT_OP77Q_intxt_sin         0\n",
            "ED_MLT_OP77Q_intxt_cos         0\n",
            "AE_INDEX_t_0              122112\n",
            "                           ...  \n",
            "flow_speed_t_284          136278\n",
            "flow_speed_t_285          136270\n",
            "flow_speed_t_286          136262\n",
            "flow_speed_t_287          136254\n",
            "target                     20608\n",
            "Length: 1157, dtype: int64\n"
          ]
        }
      ]
    },
    {
      "cell_type": "code",
      "source": [
        "full_data.dropna(inplace=True) #drop na columns\n",
        "\n",
        "\n",
        "y = full_data['target']\n",
        "X = full_data.drop(columns=['target'])"
      ],
      "metadata": {
        "id": "y6kN8uj-BBx8"
      },
      "execution_count": 18,
      "outputs": []
    },
    {
      "cell_type": "code",
      "source": [
        "#split periods"
      ],
      "metadata": {
        "id": "6aUt32e4C5AJ"
      },
      "execution_count": 19,
      "outputs": []
    },
    {
      "cell_type": "code",
      "source": [
        "train_end_date = '2016-12-31'\n",
        "val_start_date = '2017-01-01'\n",
        "val_end_date = '2017-02-24'\n",
        "storm_start_date = '2017-02-25'\n",
        "storm_end_date = '2017-03-25'\n",
        "# future_start_date = '2018-03-01'\n",
        "# future_end_date = '2019-04-30'"
      ],
      "metadata": {
        "id": "EpQfL_AzDJiR"
      },
      "execution_count": 20,
      "outputs": []
    },
    {
      "cell_type": "code",
      "source": [
        "#training set\n",
        "X_train = X.loc[:train_end_date]\n",
        "y_train = y.loc[:train_end_date]\n",
        "\n"
      ],
      "metadata": {
        "id": "Oox9rD_yDO0y"
      },
      "execution_count": 21,
      "outputs": []
    },
    {
      "cell_type": "code",
      "source": [
        "#validation set\n",
        "\n",
        "X_val = X.loc[val_start_date:val_end_date]\n",
        "y_val = y.loc[val_start_date:val_end_date]\n"
      ],
      "metadata": {
        "id": "5DMtsvJcDQEJ"
      },
      "execution_count": 22,
      "outputs": []
    },
    {
      "cell_type": "code",
      "source": [
        "#storm period test set\n",
        "X_test_storm = X.loc[storm_start_date:storm_end_date]\n",
        "y_test_storm = y.loc[storm_start_date:storm_end_date]"
      ],
      "metadata": {
        "id": "TF0mHfMEEB7X"
      },
      "execution_count": 23,
      "outputs": []
    },
    {
      "cell_type": "code",
      "source": [
        "# #future out of sample test set\n",
        "# X_test_future = X.loc[future_start_date:future_end_date]\n",
        "# y_test_future = y.loc[future_start_date:future_end_date]"
      ],
      "metadata": {
        "id": "1_BIA8PGFwIB"
      },
      "execution_count": 24,
      "outputs": []
    },
    {
      "cell_type": "code",
      "source": [
        "print(f\"Training set size:   {len(X_train)} samples\")\n",
        "print(f\"Validation set size: {len(X_val)} samples\")\n",
        "print(f\"Storm test set size: {len(X_test_storm)} samples\")\n",
        "# print(f\"Future test set size: {len(X_test_future)} samples\")"
      ],
      "metadata": {
        "colab": {
          "base_uri": "https://localhost:8080/"
        },
        "id": "1wQcDMvcEvTX",
        "outputId": "80699df0-f42c-4a99-c5bb-eb6f613589c6"
      },
      "execution_count": 25,
      "outputs": [
        {
          "output_type": "stream",
          "name": "stdout",
          "text": [
            "Training set size:   859988 samples\n",
            "Validation set size: 31573 samples\n",
            "Storm test set size: 16676 samples\n"
          ]
        }
      ]
    },
    {
      "cell_type": "code",
      "source": [
        "print(\"Checking the time range of your data:\")\n",
        "print(f\"First data point is on: {full_data.index.min()}\")\n",
        "print(f\"Last data point is on:  {full_data.index.max()}\")"
      ],
      "metadata": {
        "colab": {
          "base_uri": "https://localhost:8080/"
        },
        "id": "ocYlAuVWE3E7",
        "outputId": "89984ddd-e856-45d7-c4c0-8951b36f8703"
      },
      "execution_count": 26,
      "outputs": [
        {
          "output_type": "stream",
          "name": "stdout",
          "text": [
            "Checking the time range of your data:\n",
            "First data point is on: 2012-09-06 21:00:48\n",
            "Last data point is on:  2018-02-01 00:00:00\n"
          ]
        }
      ]
    },
    {
      "cell_type": "code",
      "source": [
        "#normalisation from the npy file ORIENT M code repo"
      ],
      "metadata": {
        "id": "H9KqNEINFTfI"
      },
      "execution_count": 27,
      "outputs": []
    },
    {
      "cell_type": "code",
      "source": [
        "avg_file = 'mageis_ch3_input_avg.npy'\n",
        "std_file = 'mageis_ch3_input_std.npy'\n",
        "\n",
        "# pre-computed mean and standard deviation\n",
        "avg = np.load(avg_file)\n",
        "std = np.load(std_file)\n",
        "\n",
        "# Z-score normalization to all feature sets\n",
        "X_train_norm = (X_train - avg) / std\n",
        "X_val_norm = (X_val - avg) / std\n",
        "X_test_storm_norm = (X_test_storm - avg) / std\n",
        "\n",
        "print(X_train.head())\n",
        "print(X_train_norm.head())"
      ],
      "metadata": {
        "colab": {
          "base_uri": "https://localhost:8080/"
        },
        "id": "_SGHac0EHcGD",
        "outputId": "45a9f587-b5c0-48e2-bc14-3749332beac2"
      },
      "execution_count": 29,
      "outputs": [
        {
          "output_type": "stream",
          "name": "stdout",
          "text": [
            "                     ED_R_OP77Q_intxt  ED_MLAT_OP77Q_intxt  \\\n",
            "datetime                                                     \n",
            "2012-09-06 21:00:48          2.481845            -4.517538   \n",
            "2012-09-06 21:05:04          2.311344            -4.208872   \n",
            "2012-09-06 21:09:20          2.136864            -3.760756   \n",
            "2012-09-06 21:15:44          1.959886            -3.125583   \n",
            "2012-09-06 21:20:00          1.783007            -2.239918   \n",
            "\n",
            "                     ED_MLT_OP77Q_intxt_sin  ED_MLT_OP77Q_intxt_cos  \\\n",
            "datetime                                                              \n",
            "2012-09-06 21:00:48               -0.110873               -0.993835   \n",
            "2012-09-06 21:05:04               -0.201171               -0.979556   \n",
            "2012-09-06 21:09:20               -0.304121               -0.952634   \n",
            "2012-09-06 21:15:44               -0.421331               -0.906907   \n",
            "2012-09-06 21:20:00               -0.553296               -0.832985   \n",
            "\n",
            "                     AE_INDEX_t_0  AE_INDEX_t_1  AE_INDEX_t_2  AE_INDEX_t_3  \\\n",
            "datetime                                                                      \n",
            "2012-09-06 21:00:48        132.75        153.00         85.75         81.50   \n",
            "2012-09-06 21:05:04        134.25        157.75         85.00         92.25   \n",
            "2012-09-06 21:09:20        121.50        138.00        121.25         97.75   \n",
            "2012-09-06 21:15:44        119.50        127.50        145.25         95.75   \n",
            "2012-09-06 21:20:00        116.50        132.75        153.00         85.75   \n",
            "\n",
            "                     AE_INDEX_t_4  AE_INDEX_t_5  ...  flow_speed_t_278  \\\n",
            "datetime                                         ...                     \n",
            "2012-09-06 21:00:48         74.75         86.50  ...        308.337494   \n",
            "2012-09-06 21:05:04         67.50         85.00  ...        308.312500   \n",
            "2012-09-06 21:09:20         57.25         86.75  ...        308.112488   \n",
            "2012-09-06 21:15:44         66.00         78.75  ...        308.075012   \n",
            "2012-09-06 21:20:00         81.50         74.75  ...        308.100006   \n",
            "\n",
            "                     flow_speed_t_279  flow_speed_t_280  flow_speed_t_281  \\\n",
            "datetime                                                                    \n",
            "2012-09-06 21:00:48        309.600006        311.125000        312.000000   \n",
            "2012-09-06 21:05:04        308.674988        310.775024        312.399994   \n",
            "2012-09-06 21:09:20        308.649994        309.825012        312.450012   \n",
            "2012-09-06 21:15:44        308.387482        309.625000        312.149994   \n",
            "2012-09-06 21:20:00        308.337494        309.600006        311.125000   \n",
            "\n",
            "                     flow_speed_t_282  flow_speed_t_283  flow_speed_t_284  \\\n",
            "datetime                                                                    \n",
            "2012-09-06 21:00:48        311.250000        311.049988        309.424988   \n",
            "2012-09-06 21:05:04        311.625000        310.875000        310.049988   \n",
            "2012-09-06 21:09:20        312.000000        310.774994        310.450012   \n",
            "2012-09-06 21:15:44        311.799988        311.000000        310.875000   \n",
            "2012-09-06 21:20:00        312.000000        311.250000        311.049988   \n",
            "\n",
            "                     flow_speed_t_285  flow_speed_t_286  flow_speed_t_287  \n",
            "datetime                                                                   \n",
            "2012-09-06 21:00:48        309.750000        311.675018        315.750000  \n",
            "2012-09-06 21:05:04        309.200012        311.450012        315.175018  \n",
            "2012-09-06 21:09:20        309.350006        310.725006        312.700012  \n",
            "2012-09-06 21:15:44        309.125000        310.325012        312.050018  \n",
            "2012-09-06 21:20:00        309.424988        309.750000        311.675018  \n",
            "\n",
            "[5 rows x 1156 columns]\n",
            "                     ED_R_OP77Q_intxt  ED_MLAT_OP77Q_intxt  \\\n",
            "datetime                                                     \n",
            "2012-09-06 21:00:48          0.279389            -6.387457   \n",
            "2012-09-06 21:05:04          0.261906            -5.952351   \n",
            "2012-09-06 21:09:20          0.244015            -5.320671   \n",
            "2012-09-06 21:15:44          0.225868            -4.425309   \n",
            "2012-09-06 21:20:00          0.207731            -3.176846   \n",
            "\n",
            "                     ED_MLT_OP77Q_intxt_sin  ED_MLT_OP77Q_intxt_cos  \\\n",
            "datetime                                                              \n",
            "2012-09-06 21:00:48               -0.149378               -6.019331   \n",
            "2012-09-06 21:05:04               -0.277548               -6.004397   \n",
            "2012-09-06 21:09:20               -0.423678               -5.976239   \n",
            "2012-09-06 21:15:44               -0.590049               -5.928414   \n",
            "2012-09-06 21:20:00               -0.777362               -5.851100   \n",
            "\n",
            "                     AE_INDEX_t_0  AE_INDEX_t_1  AE_INDEX_t_2  AE_INDEX_t_3  \\\n",
            "datetime                                                                      \n",
            "2012-09-06 21:00:48     -0.228110     -0.126113     -0.463495     -0.484444   \n",
            "2012-09-06 21:05:04     -0.220588     -0.102270     -0.467265     -0.430342   \n",
            "2012-09-06 21:09:20     -0.284521     -0.201408     -0.285023     -0.402662   \n",
            "2012-09-06 21:15:44     -0.294549     -0.254114     -0.164367     -0.412727   \n",
            "2012-09-06 21:20:00     -0.309592     -0.227761     -0.125405     -0.463055   \n",
            "\n",
            "                     AE_INDEX_t_4  AE_INDEX_t_5  ...  flow_speed_t_278  \\\n",
            "datetime                                         ...                     \n",
            "2012-09-06 21:00:48     -0.518015     -0.458576  ...         -1.201962   \n",
            "2012-09-06 21:05:04     -0.554540     -0.466142  ...         -1.202225   \n",
            "2012-09-06 21:09:20     -0.606179     -0.457314  ...         -1.204330   \n",
            "2012-09-06 21:15:44     -0.562097     -0.497670  ...         -1.204725   \n",
            "2012-09-06 21:20:00     -0.484009     -0.517847  ...         -1.204462   \n",
            "\n",
            "                     flow_speed_t_279  flow_speed_t_280  flow_speed_t_281  \\\n",
            "datetime                                                                    \n",
            "2012-09-06 21:00:48         -1.188550         -1.172280         -1.162785   \n",
            "2012-09-06 21:05:04         -1.198286         -1.175963         -1.158577   \n",
            "2012-09-06 21:09:20         -1.198549         -1.185961         -1.158050   \n",
            "2012-09-06 21:15:44         -1.201312         -1.188065         -1.161207   \n",
            "2012-09-06 21:20:00         -1.201838         -1.188329         -1.171991   \n",
            "\n",
            "                     flow_speed_t_282  flow_speed_t_283  flow_speed_t_284  \\\n",
            "datetime                                                                    \n",
            "2012-09-06 21:00:48         -1.170387         -1.172210         -1.189013   \n",
            "2012-09-06 21:05:04         -1.166443         -1.174050         -1.182444   \n",
            "2012-09-06 21:09:20         -1.162499         -1.175102         -1.178239   \n",
            "2012-09-06 21:15:44         -1.164603         -1.172736         -1.173772   \n",
            "2012-09-06 21:20:00         -1.162499         -1.170107         -1.171933   \n",
            "\n",
            "                     flow_speed_t_285  flow_speed_t_286  flow_speed_t_287  \n",
            "datetime                                                                   \n",
            "2012-09-06 21:00:48         -1.185349         -1.164978         -1.122090  \n",
            "2012-09-06 21:05:04         -1.191128         -1.167342         -1.128131  \n",
            "2012-09-06 21:09:20         -1.189552         -1.174960         -1.154135  \n",
            "2012-09-06 21:15:44         -1.191916         -1.179162         -1.160965  \n",
            "2012-09-06 21:20:00         -1.188764         -1.185204         -1.164905  \n",
            "\n",
            "[5 rows x 1156 columns]\n"
          ]
        }
      ]
    },
    {
      "cell_type": "markdown",
      "source": [
        "Saving ch3 processed data"
      ],
      "metadata": {
        "id": "jWvO-uwQIOz8"
      }
    },
    {
      "cell_type": "code",
      "source": [
        "import os\n",
        "\n",
        "output_dir = 'ch3'\n",
        "os.makedirs(output_dir, exist_ok=True)\n",
        "\n",
        "# Save the normalized feature sets\n",
        "X_train_norm.to_pickle(os.path.join(output_dir, 'X_train_norm.pkl'))\n",
        "X_val_norm.to_pickle(os.path.join(output_dir, 'X_val_norm.pkl'))\n",
        "X_test_storm_norm.to_pickle(os.path.join(output_dir, 'X_test_storm_norm.pkl'))\n",
        "\n",
        "# Save the corresponding target sets\n",
        "y_train.to_pickle(os.path.join(output_dir, 'y_train.pkl'))\n",
        "y_val.to_pickle(os.path.join(output_dir, 'y_val.pkl'))\n",
        "y_test_storm.to_pickle(os.path.join(output_dir, 'y_test_storm.pkl'))\n",
        "\n"
      ],
      "metadata": {
        "id": "3wrQi_xLH-ea"
      },
      "execution_count": 30,
      "outputs": []
    },
    {
      "cell_type": "code",
      "source": [],
      "metadata": {
        "id": "om5015a9Ic6R"
      },
      "execution_count": 30,
      "outputs": []
    },
    {
      "cell_type": "code",
      "source": [
        "!pwd"
      ],
      "metadata": {
        "colab": {
          "base_uri": "https://localhost:8080/"
        },
        "id": "M9IdgOAfIt8G",
        "outputId": "297a697e-68ac-441e-ea80-92b59d48e353"
      },
      "execution_count": 31,
      "outputs": [
        {
          "output_type": "stream",
          "name": "stdout",
          "text": [
            "/content\n"
          ]
        }
      ]
    },
    {
      "cell_type": "code",
      "source": [
        "from google.colab import drive\n",
        "drive.mount('/content/drive')\n"
      ],
      "metadata": {
        "colab": {
          "base_uri": "https://localhost:8080/"
        },
        "id": "MaDIDxuSB5XJ",
        "outputId": "9ecbf55d-9d91-4122-88ef-606d44c62306"
      },
      "execution_count": 32,
      "outputs": [
        {
          "output_type": "stream",
          "name": "stdout",
          "text": [
            "Mounted at /content/drive\n"
          ]
        }
      ]
    },
    {
      "cell_type": "code",
      "source": [
        "import shutil\n",
        "import os\n",
        "\n",
        "source_folder = \"ch3\"\n",
        "\n",
        "zip_name = \"ch3_processed.zip\"\n",
        "shutil.make_archive(\"ch3_processed\", 'zip', source_folder)\n",
        "\n",
        "drive_dest = \"/content/drive/MyDrive/Radiation_Belt_Project\"\n",
        "\n",
        "\n",
        "os.makedirs(drive_dest, exist_ok=True)\n",
        "\n",
        "\n",
        "shutil.move(zip_name, os.path.join(drive_dest, zip_name))\n",
        "\n",
        "print(f\"Saved {zip_name} to {drive_dest}\")\n"
      ],
      "metadata": {
        "colab": {
          "base_uri": "https://localhost:8080/"
        },
        "id": "khW1NPfsJE4y",
        "outputId": "50b8081d-4047-4b26-958b-aec2db2d4d65"
      },
      "execution_count": 33,
      "outputs": [
        {
          "output_type": "stream",
          "name": "stdout",
          "text": [
            "Saved ch3_processed.zip to /content/drive/MyDrive/Radiation_Belt_Project\n"
          ]
        }
      ]
    },
    {
      "cell_type": "code",
      "source": [
        "import os\n",
        "folder = \"/content/drive/MyDrive/Radiation_Belt_Project\"\n",
        "print(os.listdir(folder))"
      ],
      "metadata": {
        "id": "DS03qWwNJmSV",
        "colab": {
          "base_uri": "https://localhost:8080/"
        },
        "outputId": "79f053e5-bd4e-41fc-f221-feb015e18db0"
      },
      "execution_count": 34,
      "outputs": [
        {
          "output_type": "stream",
          "name": "stdout",
          "text": [
            "['model_235keV_v1.ipynb', 'data', 'overview_plot.ipynb', 'Untitled0.ipynb', 'data_prep-ananth.ipynb', 'ch11-data-preprcessing-test', 'figure3.ipynb', 'ch3_data_processed', 'ch3_processed.zip', 'data_prep.ipynb']\n"
          ]
        }
      ]
    },
    {
      "cell_type": "code",
      "source": [],
      "metadata": {
        "id": "e9haJ1mRE1LC"
      },
      "execution_count": null,
      "outputs": []
    }
  ]
}